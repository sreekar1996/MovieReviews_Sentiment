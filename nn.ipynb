{
 "cells": [
  {
   "cell_type": "code",
   "execution_count": 1,
   "metadata": {},
   "outputs": [
    {
     "name": "stderr",
     "output_type": "stream",
     "text": [
      "[nltk_data] Downloading package wordnet to C:\\Users\\sreekar\n",
      "[nltk_data]     chidurala\\AppData\\Roaming\\nltk_data...\n",
      "[nltk_data]   Package wordnet is already up-to-date!\n",
      "Using TensorFlow backend.\n"
     ]
    }
   ],
   "source": [
    "import pandas as pd\n",
    "import numpy as np\n",
    "import nltk\n",
    "from nltk.tokenize import word_tokenize\n",
    "from nltk.stem import WordNetLemmatizer\n",
    "from bs4 import BeautifulSoup\n",
    "from tqdm import tqdm\n",
    "import re\n",
    "lemmatizer = WordNetLemmatizer()\n",
    "nltk.download('wordnet')\n",
    "from keras.utils import to_categorical\n",
    "import random\n",
    "from tensorflow import set_random_seed\n",
    "from sklearn.model_selection import train_test_split\n",
    "from keras.preprocessing import sequence\n",
    "from keras.preprocessing.text import Tokenizer\n",
    "from keras.layers import Dense,Dropout,Embedding,LSTM\n",
    "from keras.callbacks import EarlyStopping\n",
    "from keras.losses import categorical_crossentropy\n",
    "from keras.optimizers import Adam\n",
    "from keras.models import Sequential\n",
    "from tqdm import tqdm\n",
    "import warnings\n",
    "warnings.filterwarnings(\"ignore\", category=UserWarning, module='bs4')"
   ]
  },
  {
   "cell_type": "code",
   "execution_count": 4,
   "metadata": {},
   "outputs": [],
   "source": [
    "#!pip install matplotlib\n",
    "#!pip3 install nltk\n",
    "#!pip install sklearn\n",
    "#!pip install scipy\n",
    "#!pip3 install pandas\n"
   ]
  },
  {
   "cell_type": "code",
   "execution_count": 5,
   "metadata": {},
   "outputs": [],
   "source": [
    "import tensorflow as tf\n",
    "#!pip install matplotlib\n",
    "from keras.utils import to_categorical"
   ]
  },
  {
   "cell_type": "code",
   "execution_count": 24,
   "metadata": {},
   "outputs": [
    {
     "name": "stdout",
     "output_type": "stream",
     "text": [
      "Requirement already satisfied: opencv-python in c:\\users\\sreekar chidurala\\anaconda3\\envs\\sreekarr\\lib\\site-packages (4.1.0.25)\n",
      "Requirement already satisfied: numpy>=1.14.5 in c:\\users\\sreekar chidurala\\anaconda3\\envs\\sreekarr\\lib\\site-packages (from opencv-python) (1.16.4)\n"
     ]
    }
   ],
   "source": [
    "#!pip install opencv-python"
   ]
  },
  {
   "cell_type": "code",
   "execution_count": 6,
   "metadata": {},
   "outputs": [],
   "source": [
    "#!pip install tqdm"
   ]
  },
  {
   "cell_type": "code",
   "execution_count": 2,
   "metadata": {},
   "outputs": [],
   "source": [
    "train1=pd.read_csv(\"train.tsv\",sep=\"\\t\")"
   ]
  },
  {
   "cell_type": "code",
   "execution_count": 3,
   "metadata": {},
   "outputs": [],
   "source": [
    "test1=pd.read_csv(\"test.tsv\",sep=\"\\t\")"
   ]
  },
  {
   "cell_type": "code",
   "execution_count": 36,
   "metadata": {},
   "outputs": [
    {
     "data": {
      "text/plain": [
       "((156060, 4), (66292, 3))"
      ]
     },
     "execution_count": 36,
     "metadata": {},
     "output_type": "execute_result"
    }
   ],
   "source": [
    "import pandas as pd\n",
    "train1.head()\n",
    "train1.shape , test1.shape"
   ]
  },
  {
   "cell_type": "code",
   "execution_count": 5,
   "metadata": {},
   "outputs": [],
   "source": [
    "from sklearn.model_selection import train_test_split\n",
    "from sklearn.ensemble import AdaBoostClassifier\n",
    "from sklearn.feature_extraction.text import CountVectorizer"
   ]
  },
  {
   "cell_type": "code",
   "execution_count": 6,
   "metadata": {},
   "outputs": [
    {
     "data": {
      "text/plain": [
       "178"
      ]
     },
     "execution_count": 6,
     "metadata": {},
     "output_type": "execute_result"
    }
   ],
   "source": [
    "stop_words=nltk.corpus.stopwords.words('english')\n",
    "stop_words=list(np.setdiff1d(stop_words,['not']))\n",
    "junk_words=[]\n",
    "len(stop_words)\n",
    "stop_words.extend(junk_words)\n",
    "len(stop_words)"
   ]
  },
  {
   "cell_type": "code",
   "execution_count": 7,
   "metadata": {},
   "outputs": [
    {
     "data": {
      "text/plain": [
       "0    a series of escapades demonstrating the adage ...\n",
       "1    a series of escapades demonstrating the adage ...\n",
       "2                                             a series\n",
       "3                                                    a\n",
       "4                                               series\n",
       "Name: Phrase, dtype: object"
      ]
     },
     "execution_count": 7,
     "metadata": {},
     "output_type": "execute_result"
    }
   ],
   "source": [
    "docs=train1['Phrase'].fillna('').str.lower().str.replace('[^a-z ]','')\n",
    "docs.head()"
   ]
  },
  {
   "cell_type": "code",
   "execution_count": 39,
   "metadata": {},
   "outputs": [],
   "source": [
    "def clean_sentences(df):\n",
    "    reviews = []\n",
    "\n",
    "    for i in tqdm(df['Phrase']):\n",
    "        \n",
    "        #remove html content\n",
    "        review_text = BeautifulSoup(i).get_text()\n",
    "        \n",
    "        #remove non-alphabetic characters\n",
    "        review_text = re.sub(\"[^a-zA-Z]\",\" \", review_text)\n",
    "    \n",
    "        #tokenize the sentences\n",
    "        words = word_tokenize(review_text.lower())\n",
    "    \n",
    "        #lemmatize each word to its lemma\n",
    "        lemma_words = [lemmatizer.lemmatize(i) for i in words]\n",
    "    \n",
    "        reviews.append(lemma_words)\n",
    "\n",
    "    return(reviews)"
   ]
  },
  {
   "cell_type": "markdown",
   "metadata": {},
   "source": [
    "stemmer=nltk.PorterStemmer()\n",
    "def clean_text(row_text):\n",
    "    #print(type(row_text))\n",
    "    row_words=row_text.split(' ')\n",
    "    #print(row_words)\n",
    "    row_words= [stemmer.stem(word) for word in row_words if word not in stop_words]\n",
    "    words = word_tokenize(row_words)\n",
    "    #lemmatize each word to its lemma\n",
    "    lem_words = [lemmatizer.lemmatize(i) for i in words]\n",
    "    #print(row_words)\n",
    "    #print('----')\n",
    "    return ' '.join(lem_words)\n",
    "\n",
    "docs_clean=docs.apply(lambda v: clean_text(v))"
   ]
  },
  {
   "cell_type": "code",
   "execution_count": 37,
   "metadata": {},
   "outputs": [
    {
     "name": "stderr",
     "output_type": "stream",
     "text": [
      "100%|██████████| 156060/156060 [00:46<00:00, 3329.33it/s]\n"
     ]
    }
   ],
   "source": [
    "docs_clean=clean_sentences(train1)"
   ]
  },
  {
   "cell_type": "code",
   "execution_count": 10,
   "metadata": {},
   "outputs": [],
   "source": [
    "#docs_clean"
   ]
  },
  {
   "cell_type": "code",
   "execution_count": 40,
   "metadata": {},
   "outputs": [
    {
     "name": "stderr",
     "output_type": "stream",
     "text": [
      "100%|██████████| 66292/66292 [00:18<00:00, 3542.15it/s]\n"
     ]
    }
   ],
   "source": [
    "test_sentences = clean_sentences(test1)"
   ]
  },
  {
   "cell_type": "code",
   "execution_count": 44,
   "metadata": {},
   "outputs": [],
   "source": [
    "target=train1.Sentiment.values\n",
    "y_target=to_categorical(target)\n",
    "num_classes=y_target.shape[1]"
   ]
  },
  {
   "cell_type": "code",
   "execution_count": 45,
   "metadata": {},
   "outputs": [],
   "source": [
    "X_train,X_val,y_train,y_val=train_test_split(docs_clean,y_target,test_size=0.2,stratify=y_target)"
   ]
  },
  {
   "cell_type": "code",
   "execution_count": 46,
   "metadata": {},
   "outputs": [
    {
     "name": "stderr",
     "output_type": "stream",
     "text": [
      "100%|██████████| 124848/124848 [00:00<00:00, 588522.08it/s]\n"
     ]
    },
    {
     "name": "stdout",
     "output_type": "stream",
     "text": [
      "13740\n",
      "48\n"
     ]
    }
   ],
   "source": [
    "unique_words = set()\n",
    "len_max = 0\n",
    "\n",
    "for sent in tqdm(X_train):\n",
    "    \n",
    "    unique_words.update(sent)\n",
    "    \n",
    "    if(len_max<len(sent)):\n",
    "        len_max = len(sent)\n",
    "        \n",
    "#length of the list of unique_words gives the no of unique words\n",
    "print(len(list(unique_words)))\n",
    "print(len_max)"
   ]
  },
  {
   "cell_type": "code",
   "execution_count": 47,
   "metadata": {},
   "outputs": [
    {
     "name": "stdout",
     "output_type": "stream",
     "text": [
      "(124848, 48) (31212, 48) (66292, 48)\n"
     ]
    }
   ],
   "source": [
    "tokenizer = Tokenizer(num_words=len(list(unique_words)))\n",
    "tokenizer.fit_on_texts(list(X_train))\n",
    "X_train = tokenizer.texts_to_sequences(X_train)\n",
    "X_val = tokenizer.texts_to_sequences(X_val)\n",
    "X_test = tokenizer.texts_to_sequences(test_sentences)\n",
    "\n",
    "#padding done to equalize the lengths of all input reviews. LSTM networks needs all inputs to be same length.\n",
    "#Therefore reviews lesser than max length will be made equal using extra zeros at end. This is padding.\n",
    "X_train = sequence.pad_sequences(X_train, maxlen=len_max)\n",
    "X_val = sequence.pad_sequences(X_val, maxlen=len_max)\n",
    "X_test = sequence.pad_sequences(X_test, maxlen=len_max)\n",
    "print(X_train.shape,X_val.shape,X_test.shape)"
   ]
  },
  {
   "cell_type": "code",
   "execution_count": 48,
   "metadata": {},
   "outputs": [
    {
     "name": "stdout",
     "output_type": "stream",
     "text": [
      "_________________________________________________________________\n",
      "Layer (type)                 Output Shape              Param #   \n",
      "=================================================================\n",
      "embedding_2 (Embedding)      (None, 48, 300)           4122000   \n",
      "_________________________________________________________________\n",
      "lstm_3 (LSTM)                (None, 48, 128)           219648    \n",
      "_________________________________________________________________\n",
      "lstm_4 (LSTM)                (None, 64)                49408     \n",
      "_________________________________________________________________\n",
      "dense_3 (Dense)              (None, 100)               6500      \n",
      "_________________________________________________________________\n",
      "dropout_2 (Dropout)          (None, 100)               0         \n",
      "_________________________________________________________________\n",
      "dense_4 (Dense)              (None, 5)                 505       \n",
      "=================================================================\n",
      "Total params: 4,398,061\n",
      "Trainable params: 4,398,061\n",
      "Non-trainable params: 0\n",
      "_________________________________________________________________\n"
     ]
    }
   ],
   "source": [
    "early_stopping = EarlyStopping(min_delta = 0.001, mode = 'max', monitor='val_acc', patience = 2)\n",
    "callback = [early_stopping]\n",
    "\n",
    "#Model using Keras LSTM\n",
    "model=Sequential()\n",
    "model.add(Embedding(len(list(unique_words)),300,input_length=len_max))\n",
    "model.add(LSTM(128,dropout=0.5, recurrent_dropout=0.5,return_sequences=True))\n",
    "model.add(LSTM(64,dropout=0.5, recurrent_dropout=0.5,return_sequences=False))\n",
    "model.add(Dense(100,activation='relu'))\n",
    "model.add(Dropout(0.5))\n",
    "model.add(Dense(num_classes,activation='softmax'))\n",
    "model.compile(loss='categorical_crossentropy',optimizer=Adam(lr=0.005),metrics=['accuracy'])\n",
    "model.summary()"
   ]
  },
  {
   "cell_type": "code",
   "execution_count": 17,
   "metadata": {},
   "outputs": [
    {
     "name": "stdout",
     "output_type": "stream",
     "text": [
      "WARNING:tensorflow:From C:\\Users\\sreekar chidurala\\Anaconda3\\envs\\sreekarr\\lib\\site-packages\\tensorflow\\python\\ops\\math_ops.py:3066: to_int32 (from tensorflow.python.ops.math_ops) is deprecated and will be removed in a future version.\n",
      "Instructions for updating:\n",
      "Use tf.cast instead.\n",
      "Train on 124848 samples, validate on 31212 samples\n",
      "Epoch 1/6\n"
     ]
    },
    {
     "name": "stdout",
     "output_type": "stream",
     "text": [
      " 51456/124848 [===========>..................] - ETA: 49:30:56 - loss: 1.6118 - acc: 0.199 - ETA: 24:44:24 - loss: 1.5865 - acc: 0.300 - ETA: 16:28:51 - loss: 1.5133 - acc: 0.373 - ETA: 12:21:07 - loss: 1.4812 - acc: 0.408 - ETA: 9:52:26 - loss: 1.4234 - acc: 0.439 - ETA: 8:13:19 - loss: 1.4089 - acc: 0.44 - ETA: 7:02:32 - loss: 1.3790 - acc: 0.46 - ETA: 6:09:26 - loss: 1.3762 - acc: 0.46 - ETA: 5:28:08 - loss: 1.3643 - acc: 0.46 - ETA: 4:55:04 - loss: 1.3566 - acc: 0.46 - ETA: 4:28:03 - loss: 1.3406 - acc: 0.47 - ETA: 4:05:31 - loss: 1.3365 - acc: 0.47 - ETA: 3:46:26 - loss: 1.3299 - acc: 0.48 - ETA: 3:30:06 - loss: 1.3265 - acc: 0.48 - ETA: 3:15:56 - loss: 1.3193 - acc: 0.48 - ETA: 3:03:32 - loss: 1.3160 - acc: 0.48 - ETA: 2:52:36 - loss: 1.3146 - acc: 0.48 - ETA: 2:42:53 - loss: 1.3066 - acc: 0.48 - ETA: 2:34:10 - loss: 1.3036 - acc: 0.48 - ETA: 2:26:21 - loss: 1.2994 - acc: 0.49 - ETA: 2:19:16 - loss: 1.2971 - acc: 0.49 - ETA: 2:12:49 - loss: 1.2911 - acc: 0.49 - ETA: 2:06:56 - loss: 1.2883 - acc: 0.49 - ETA: 2:01:33 - loss: 1.2888 - acc: 0.49 - ETA: 1:56:35 - loss: 1.2879 - acc: 0.49 - ETA: 1:52:00 - loss: 1.2840 - acc: 0.49 - ETA: 1:47:46 - loss: 1.2823 - acc: 0.49 - ETA: 1:43:49 - loss: 1.2773 - acc: 0.49 - ETA: 1:40:09 - loss: 1.2777 - acc: 0.49 - ETA: 1:36:43 - loss: 1.2768 - acc: 0.49 - ETA: 1:33:31 - loss: 1.2751 - acc: 0.49 - ETA: 1:30:31 - loss: 1.2760 - acc: 0.49 - ETA: 1:27:41 - loss: 1.2737 - acc: 0.49 - ETA: 1:25:02 - loss: 1.2710 - acc: 0.49 - ETA: 1:22:31 - loss: 1.2706 - acc: 0.49 - ETA: 1:20:10 - loss: 1.2689 - acc: 0.49 - ETA: 1:17:55 - loss: 1.2685 - acc: 0.49 - ETA: 1:15:48 - loss: 1.2661 - acc: 0.49 - ETA: 1:13:47 - loss: 1.2652 - acc: 0.49 - ETA: 1:11:52 - loss: 1.2654 - acc: 0.49 - ETA: 1:10:03 - loss: 1.2646 - acc: 0.49 - ETA: 1:08:19 - loss: 1.2642 - acc: 0.49 - ETA: 1:06:39 - loss: 1.2639 - acc: 0.49 - ETA: 1:05:04 - loss: 1.2640 - acc: 0.49 - ETA: 1:03:34 - loss: 1.2630 - acc: 0.49 - ETA: 1:02:07 - loss: 1.2617 - acc: 0.49 - ETA: 1:00:44 - loss: 1.2595 - acc: 0.49 - ETA: 59:24 - loss: 1.2578 - acc: 0.5005 - ETA: 58:08 - loss: 1.2566 - acc: 0.50 - ETA: 56:55 - loss: 1.2566 - acc: 0.50 - ETA: 55:44 - loss: 1.2546 - acc: 0.50 - ETA: 54:36 - loss: 1.2541 - acc: 0.50 - ETA: 53:31 - loss: 1.2530 - acc: 0.50 - ETA: 52:28 - loss: 1.2516 - acc: 0.50 - ETA: 51:28 - loss: 1.2503 - acc: 0.50 - ETA: 50:29 - loss: 1.2499 - acc: 0.50 - ETA: 49:33 - loss: 1.2488 - acc: 0.50 - ETA: 48:38 - loss: 1.2473 - acc: 0.50 - ETA: 47:46 - loss: 1.2469 - acc: 0.50 - ETA: 46:55 - loss: 1.2455 - acc: 0.50 - ETA: 46:06 - loss: 1.2439 - acc: 0.50 - ETA: 45:18 - loss: 1.2423 - acc: 0.50 - ETA: 44:32 - loss: 1.2413 - acc: 0.50 - ETA: 43:47 - loss: 1.2390 - acc: 0.50 - ETA: 43:04 - loss: 1.2378 - acc: 0.50 - ETA: 42:22 - loss: 1.2372 - acc: 0.50 - ETA: 41:41 - loss: 1.2368 - acc: 0.50 - ETA: 41:01 - loss: 1.2353 - acc: 0.50 - ETA: 40:23 - loss: 1.2352 - acc: 0.50 - ETA: 39:45 - loss: 1.2348 - acc: 0.50 - ETA: 39:09 - loss: 1.2339 - acc: 0.50 - ETA: 38:33 - loss: 1.2314 - acc: 0.51 - ETA: 37:59 - loss: 1.2311 - acc: 0.51 - ETA: 37:25 - loss: 1.2294 - acc: 0.51 - ETA: 36:53 - loss: 1.2283 - acc: 0.51 - ETA: 36:21 - loss: 1.2282 - acc: 0.51 - ETA: 35:50 - loss: 1.2265 - acc: 0.51 - ETA: 35:20 - loss: 1.2282 - acc: 0.51 - ETA: 34:50 - loss: 1.2282 - acc: 0.51 - ETA: 34:22 - loss: 1.2278 - acc: 0.51 - ETA: 33:54 - loss: 1.2273 - acc: 0.51 - ETA: 33:26 - loss: 1.2265 - acc: 0.51 - ETA: 32:59 - loss: 1.2257 - acc: 0.51 - ETA: 32:33 - loss: 1.2245 - acc: 0.51 - ETA: 32:08 - loss: 1.2248 - acc: 0.51 - ETA: 31:43 - loss: 1.2246 - acc: 0.51 - ETA: 31:19 - loss: 1.2240 - acc: 0.51 - ETA: 30:55 - loss: 1.2239 - acc: 0.51 - ETA: 30:32 - loss: 1.2224 - acc: 0.51 - ETA: 30:09 - loss: 1.2209 - acc: 0.51 - ETA: 29:47 - loss: 1.2210 - acc: 0.51 - ETA: 29:25 - loss: 1.2201 - acc: 0.51 - ETA: 29:04 - loss: 1.2185 - acc: 0.51 - ETA: 28:43 - loss: 1.2179 - acc: 0.51 - ETA: 28:22 - loss: 1.2177 - acc: 0.51 - ETA: 28:02 - loss: 1.2172 - acc: 0.51 - ETA: 27:43 - loss: 1.2155 - acc: 0.51 - ETA: 27:23 - loss: 1.2156 - acc: 0.51 - ETA: 27:04 - loss: 1.2139 - acc: 0.51 - ETA: 26:46 - loss: 1.2125 - acc: 0.51 - ETA: 26:28 - loss: 1.2121 - acc: 0.51 - ETA: 26:10 - loss: 1.2114 - acc: 0.51 - ETA: 25:52 - loss: 1.2099 - acc: 0.51 - ETA: 25:35 - loss: 1.2086 - acc: 0.52 - ETA: 25:18 - loss: 1.2073 - acc: 0.52 - ETA: 25:02 - loss: 1.2063 - acc: 0.52 - ETA: 24:46 - loss: 1.2047 - acc: 0.52 - ETA: 24:30 - loss: 1.2038 - acc: 0.52 - ETA: 24:14 - loss: 1.2031 - acc: 0.52 - ETA: 23:59 - loss: 1.2022 - acc: 0.52 - ETA: 23:44 - loss: 1.2013 - acc: 0.52 - ETA: 23:29 - loss: 1.2007 - acc: 0.52 - ETA: 23:14 - loss: 1.1992 - acc: 0.52 - ETA: 23:00 - loss: 1.1984 - acc: 0.52 - ETA: 22:46 - loss: 1.1980 - acc: 0.52 - ETA: 22:32 - loss: 1.1973 - acc: 0.52 - ETA: 22:18 - loss: 1.1963 - acc: 0.52 - ETA: 22:05 - loss: 1.1958 - acc: 0.52 - ETA: 21:52 - loss: 1.1947 - acc: 0.52 - ETA: 21:39 - loss: 1.1936 - acc: 0.52 - ETA: 21:26 - loss: 1.1932 - acc: 0.52 - ETA: 21:13 - loss: 1.1924 - acc: 0.52 - ETA: 21:01 - loss: 1.1916 - acc: 0.52 - ETA: 20:49 - loss: 1.1907 - acc: 0.52 - ETA: 20:37 - loss: 1.1905 - acc: 0.52 - ETA: 20:25 - loss: 1.1893 - acc: 0.52 - ETA: 20:13 - loss: 1.1880 - acc: 0.52 - ETA: 20:02 - loss: 1.1876 - acc: 0.52 - ETA: 19:51 - loss: 1.1869 - acc: 0.52 - ETA: 19:40 - loss: 1.1859 - acc: 0.52 - ETA: 19:29 - loss: 1.1845 - acc: 0.53 - ETA: 19:18 - loss: 1.1834 - acc: 0.53 - ETA: 19:07 - loss: 1.1824 - acc: 0.53 - ETA: 18:57 - loss: 1.1814 - acc: 0.53 - ETA: 18:46 - loss: 1.1799 - acc: 0.53 - ETA: 18:36 - loss: 1.1793 - acc: 0.53 - ETA: 18:26 - loss: 1.1783 - acc: 0.53 - ETA: 18:16 - loss: 1.1774 - acc: 0.53 - ETA: 18:06 - loss: 1.1766 - acc: 0.53 - ETA: 17:57 - loss: 1.1764 - acc: 0.53 - ETA: 17:47 - loss: 1.1755 - acc: 0.53 - ETA: 17:38 - loss: 1.1752 - acc: 0.53 - ETA: 17:28 - loss: 1.1749 - acc: 0.53 - ETA: 17:19 - loss: 1.1748 - acc: 0.53 - ETA: 17:10 - loss: 1.1738 - acc: 0.53 - ETA: 17:01 - loss: 1.1730 - acc: 0.53 - ETA: 16:53 - loss: 1.1717 - acc: 0.53 - ETA: 16:44 - loss: 1.1704 - acc: 0.53 - ETA: 16:35 - loss: 1.1691 - acc: 0.53 - ETA: 16:27 - loss: 1.1676 - acc: 0.53 - ETA: 16:19 - loss: 1.1666 - acc: 0.53 - ETA: 16:10 - loss: 1.1661 - acc: 0.53 - ETA: 16:02 - loss: 1.1655 - acc: 0.53 - ETA: 15:54 - loss: 1.1646 - acc: 0.53 - ETA: 15:46 - loss: 1.1637 - acc: 0.53 - ETA: 15:38 - loss: 1.1627 - acc: 0.53 - ETA: 15:30 - loss: 1.1616 - acc: 0.54 - ETA: 15:23 - loss: 1.1607 - acc: 0.54 - ETA: 15:15 - loss: 1.1594 - acc: 0.54 - ETA: 15:08 - loss: 1.1583 - acc: 0.54 - ETA: 15:00 - loss: 1.1578 - acc: 0.54 - ETA: 14:53 - loss: 1.1574 - acc: 0.54 - ETA: 14:46 - loss: 1.1569 - acc: 0.54 - ETA: 14:39 - loss: 1.1559 - acc: 0.54 - ETA: 14:31 - loss: 1.1549 - acc: 0.54 - ETA: 14:24 - loss: 1.1545 - acc: 0.54 - ETA: 14:18 - loss: 1.1536 - acc: 0.54 - ETA: 14:11 - loss: 1.1525 - acc: 0.54 - ETA: 14:04 - loss: 1.1515 - acc: 0.54 - ETA: 13:57 - loss: 1.1509 - acc: 0.54 - ETA: 13:51 - loss: 1.1498 - acc: 0.54 - ETA: 13:44 - loss: 1.1486 - acc: 0.54 - ETA: 13:38 - loss: 1.1482 - acc: 0.54 - ETA: 13:31 - loss: 1.1471 - acc: 0.54 - ETA: 13:25 - loss: 1.1465 - acc: 0.54 - ETA: 13:18 - loss: 1.1455 - acc: 0.54 - ETA: 13:12 - loss: 1.1453 - acc: 0.54 - ETA: 13:06 - loss: 1.1444 - acc: 0.54 - ETA: 13:00 - loss: 1.1436 - acc: 0.54 - ETA: 12:54 - loss: 1.1423 - acc: 0.54 - ETA: 12:48 - loss: 1.1412 - acc: 0.54 - ETA: 12:42 - loss: 1.1400 - acc: 0.54 - ETA: 12:36 - loss: 1.1390 - acc: 0.54 - ETA: 12:31 - loss: 1.1382 - acc: 0.54 - ETA: 12:25 - loss: 1.1374 - acc: 0.54 - ETA: 12:19 - loss: 1.1365 - acc: 0.55 - ETA: 12:14 - loss: 1.1359 - acc: 0.55 - ETA: 12:08 - loss: 1.1350 - acc: 0.55 - ETA: 12:03 - loss: 1.1345 - acc: 0.55 - ETA: 11:57 - loss: 1.1335 - acc: 0.55 - ETA: 11:52 - loss: 1.1334 - acc: 0.55 - ETA: 11:46 - loss: 1.1326 - acc: 0.55 - ETA: 11:41 - loss: 1.1317 - acc: 0.55 - ETA: 11:36 - loss: 1.1311 - acc: 0.55 - ETA: 11:31 - loss: 1.1305 - acc: 0.55 - ETA: 11:25 - loss: 1.1298 - acc: 0.55 - ETA: 11:20 - loss: 1.1291 - acc: 0.55 - ETA: 11:15 - loss: 1.1285 - acc: 0.55 - ETA: 11:10 - loss: 1.1276 - acc: 0.55 - ETA: 11:05 - loss: 1.1266 - acc: 0.55 - ETA: 11:00 - loss: 1.1259 - acc: 0.5542103680/124848 [=======================>......] - ETA: 10:56 - loss: 1.1255 - acc: 0.55 - ETA: 10:51 - loss: 1.1249 - acc: 0.55 - ETA: 10:46 - loss: 1.1237 - acc: 0.55 - ETA: 10:41 - loss: 1.1232 - acc: 0.55 - ETA: 10:36 - loss: 1.1223 - acc: 0.55 - ETA: 10:32 - loss: 1.1216 - acc: 0.55 - ETA: 10:27 - loss: 1.1207 - acc: 0.55 - ETA: 10:23 - loss: 1.1200 - acc: 0.55 - ETA: 10:18 - loss: 1.1194 - acc: 0.55 - ETA: 10:14 - loss: 1.1186 - acc: 0.55 - ETA: 10:09 - loss: 1.1178 - acc: 0.55 - ETA: 10:05 - loss: 1.1167 - acc: 0.55 - ETA: 10:00 - loss: 1.1160 - acc: 0.55 - ETA: 9:56 - loss: 1.1153 - acc: 0.5579 - ETA: 9:52 - loss: 1.1146 - acc: 0.558 - ETA: 9:47 - loss: 1.1140 - acc: 0.558 - ETA: 9:43 - loss: 1.1128 - acc: 0.558 - ETA: 9:39 - loss: 1.1121 - acc: 0.559 - ETA: 9:35 - loss: 1.1116 - acc: 0.559 - ETA: 9:30 - loss: 1.1113 - acc: 0.559 - ETA: 9:26 - loss: 1.1106 - acc: 0.559 - ETA: 9:22 - loss: 1.1101 - acc: 0.559 - ETA: 9:18 - loss: 1.1096 - acc: 0.560 - ETA: 9:14 - loss: 1.1090 - acc: 0.560 - ETA: 9:10 - loss: 1.1084 - acc: 0.560 - ETA: 9:06 - loss: 1.1079 - acc: 0.560 - ETA: 9:02 - loss: 1.1072 - acc: 0.560 - ETA: 8:58 - loss: 1.1065 - acc: 0.560 - ETA: 8:54 - loss: 1.1061 - acc: 0.560 - ETA: 8:51 - loss: 1.1055 - acc: 0.560 - ETA: 8:47 - loss: 1.1050 - acc: 0.561 - ETA: 8:43 - loss: 1.1045 - acc: 0.561 - ETA: 8:39 - loss: 1.1039 - acc: 0.561 - ETA: 8:35 - loss: 1.1032 - acc: 0.561 - ETA: 8:32 - loss: 1.1027 - acc: 0.561 - ETA: 8:28 - loss: 1.1018 - acc: 0.562 - ETA: 8:24 - loss: 1.1014 - acc: 0.562 - ETA: 8:21 - loss: 1.1010 - acc: 0.562 - ETA: 8:17 - loss: 1.1002 - acc: 0.562 - ETA: 8:14 - loss: 1.0997 - acc: 0.562 - ETA: 8:10 - loss: 1.0991 - acc: 0.562 - ETA: 8:07 - loss: 1.0985 - acc: 0.563 - ETA: 8:03 - loss: 1.0979 - acc: 0.563 - ETA: 8:00 - loss: 1.0972 - acc: 0.563 - ETA: 7:56 - loss: 1.0966 - acc: 0.563 - ETA: 7:53 - loss: 1.0962 - acc: 0.563 - ETA: 7:49 - loss: 1.0956 - acc: 0.563 - ETA: 7:46 - loss: 1.0956 - acc: 0.563 - ETA: 7:43 - loss: 1.0951 - acc: 0.563 - ETA: 7:39 - loss: 1.0947 - acc: 0.564 - ETA: 7:36 - loss: 1.0939 - acc: 0.564 - ETA: 7:33 - loss: 1.0928 - acc: 0.564 - ETA: 7:29 - loss: 1.0918 - acc: 0.564 - ETA: 7:26 - loss: 1.0913 - acc: 0.565 - ETA: 7:23 - loss: 1.0911 - acc: 0.565 - ETA: 7:20 - loss: 1.0909 - acc: 0.565 - ETA: 7:17 - loss: 1.0903 - acc: 0.565 - ETA: 7:13 - loss: 1.0895 - acc: 0.565 - ETA: 7:10 - loss: 1.0892 - acc: 0.565 - ETA: 7:07 - loss: 1.0887 - acc: 0.566 - ETA: 7:04 - loss: 1.0881 - acc: 0.566 - ETA: 7:01 - loss: 1.0876 - acc: 0.566 - ETA: 6:58 - loss: 1.0870 - acc: 0.566 - ETA: 6:55 - loss: 1.0867 - acc: 0.566 - ETA: 6:52 - loss: 1.0859 - acc: 0.566 - ETA: 6:49 - loss: 1.0853 - acc: 0.567 - ETA: 6:46 - loss: 1.0850 - acc: 0.567 - ETA: 6:43 - loss: 1.0847 - acc: 0.567 - ETA: 6:40 - loss: 1.0842 - acc: 0.567 - ETA: 6:37 - loss: 1.0838 - acc: 0.567 - ETA: 6:34 - loss: 1.0831 - acc: 0.568 - ETA: 6:31 - loss: 1.0829 - acc: 0.568 - ETA: 6:28 - loss: 1.0825 - acc: 0.568 - ETA: 6:26 - loss: 1.0820 - acc: 0.568 - ETA: 6:23 - loss: 1.0813 - acc: 0.568 - ETA: 6:20 - loss: 1.0805 - acc: 0.569 - ETA: 6:17 - loss: 1.0800 - acc: 0.569 - ETA: 6:14 - loss: 1.0798 - acc: 0.569 - ETA: 6:12 - loss: 1.0793 - acc: 0.569 - ETA: 6:09 - loss: 1.0789 - acc: 0.569 - ETA: 6:06 - loss: 1.0785 - acc: 0.569 - ETA: 6:03 - loss: 1.0782 - acc: 0.569 - ETA: 6:01 - loss: 1.0778 - acc: 0.569 - ETA: 5:58 - loss: 1.0775 - acc: 0.570 - ETA: 5:55 - loss: 1.0769 - acc: 0.570 - ETA: 5:53 - loss: 1.0765 - acc: 0.570 - ETA: 5:50 - loss: 1.0762 - acc: 0.570 - ETA: 5:47 - loss: 1.0757 - acc: 0.570 - ETA: 5:45 - loss: 1.0751 - acc: 0.570 - ETA: 5:42 - loss: 1.0745 - acc: 0.570 - ETA: 5:40 - loss: 1.0740 - acc: 0.571 - ETA: 5:37 - loss: 1.0735 - acc: 0.571 - ETA: 5:34 - loss: 1.0727 - acc: 0.571 - ETA: 5:32 - loss: 1.0724 - acc: 0.571 - ETA: 5:29 - loss: 1.0717 - acc: 0.571 - ETA: 5:27 - loss: 1.0713 - acc: 0.572 - ETA: 5:24 - loss: 1.0707 - acc: 0.572 - ETA: 5:22 - loss: 1.0705 - acc: 0.572 - ETA: 5:19 - loss: 1.0699 - acc: 0.572 - ETA: 5:17 - loss: 1.0693 - acc: 0.572 - ETA: 5:15 - loss: 1.0686 - acc: 0.573 - ETA: 5:12 - loss: 1.0680 - acc: 0.573 - ETA: 5:10 - loss: 1.0675 - acc: 0.573 - ETA: 5:07 - loss: 1.0673 - acc: 0.573 - ETA: 5:05 - loss: 1.0668 - acc: 0.573 - ETA: 5:02 - loss: 1.0662 - acc: 0.573 - ETA: 5:00 - loss: 1.0656 - acc: 0.574 - ETA: 4:58 - loss: 1.0647 - acc: 0.574 - ETA: 4:55 - loss: 1.0641 - acc: 0.574 - ETA: 4:53 - loss: 1.0635 - acc: 0.574 - ETA: 4:51 - loss: 1.0630 - acc: 0.575 - ETA: 4:48 - loss: 1.0624 - acc: 0.575 - ETA: 4:46 - loss: 1.0624 - acc: 0.575 - ETA: 4:44 - loss: 1.0620 - acc: 0.575 - ETA: 4:42 - loss: 1.0612 - acc: 0.575 - ETA: 4:39 - loss: 1.0606 - acc: 0.576 - ETA: 4:37 - loss: 1.0602 - acc: 0.576 - ETA: 4:35 - loss: 1.0600 - acc: 0.576 - ETA: 4:33 - loss: 1.0596 - acc: 0.576 - ETA: 4:30 - loss: 1.0591 - acc: 0.576 - ETA: 4:28 - loss: 1.0588 - acc: 0.576 - ETA: 4:26 - loss: 1.0581 - acc: 0.576 - ETA: 4:24 - loss: 1.0582 - acc: 0.576 - ETA: 4:22 - loss: 1.0578 - acc: 0.577 - ETA: 4:19 - loss: 1.0574 - acc: 0.577 - ETA: 4:17 - loss: 1.0568 - acc: 0.577 - ETA: 4:15 - loss: 1.0563 - acc: 0.577 - ETA: 4:13 - loss: 1.0557 - acc: 0.578 - ETA: 4:11 - loss: 1.0554 - acc: 0.578 - ETA: 4:09 - loss: 1.0553 - acc: 0.578 - ETA: 4:07 - loss: 1.0548 - acc: 0.578 - ETA: 4:04 - loss: 1.0545 - acc: 0.578 - ETA: 4:02 - loss: 1.0540 - acc: 0.578 - ETA: 4:00 - loss: 1.0537 - acc: 0.578 - ETA: 3:58 - loss: 1.0534 - acc: 0.578 - ETA: 3:56 - loss: 1.0529 - acc: 0.579 - ETA: 3:54 - loss: 1.0523 - acc: 0.579 - ETA: 3:52 - loss: 1.0518 - acc: 0.579 - ETA: 3:50 - loss: 1.0518 - acc: 0.579 - ETA: 3:48 - loss: 1.0514 - acc: 0.579 - ETA: 3:46 - loss: 1.0511 - acc: 0.579 - ETA: 3:44 - loss: 1.0506 - acc: 0.579 - ETA: 3:42 - loss: 1.0503 - acc: 0.579 - ETA: 3:40 - loss: 1.0496 - acc: 0.580 - ETA: 3:38 - loss: 1.0492 - acc: 0.580 - ETA: 3:36 - loss: 1.0487 - acc: 0.580 - ETA: 3:34 - loss: 1.0481 - acc: 0.580 - ETA: 3:32 - loss: 1.0479 - acc: 0.580 - ETA: 3:30 - loss: 1.0471 - acc: 0.580 - ETA: 3:28 - loss: 1.0469 - acc: 0.580 - ETA: 3:26 - loss: 1.0466 - acc: 0.580 - ETA: 3:24 - loss: 1.0461 - acc: 0.581 - ETA: 3:22 - loss: 1.0458 - acc: 0.581 - ETA: 3:21 - loss: 1.0456 - acc: 0.581 - ETA: 3:19 - loss: 1.0450 - acc: 0.581 - ETA: 3:17 - loss: 1.0446 - acc: 0.581 - ETA: 3:15 - loss: 1.0441 - acc: 0.581 - ETA: 3:13 - loss: 1.0438 - acc: 0.581 - ETA: 3:11 - loss: 1.0434 - acc: 0.581 - ETA: 3:09 - loss: 1.0431 - acc: 0.581 - ETA: 3:07 - loss: 1.0426 - acc: 0.582 - ETA: 3:06 - loss: 1.0421 - acc: 0.582 - ETA: 3:04 - loss: 1.0418 - acc: 0.582 - ETA: 3:02 - loss: 1.0413 - acc: 0.582 - ETA: 3:00 - loss: 1.0409 - acc: 0.582 - ETA: 2:58 - loss: 1.0406 - acc: 0.582 - ETA: 2:57 - loss: 1.0402 - acc: 0.582 - ETA: 2:55 - loss: 1.0400 - acc: 0.583 - ETA: 2:53 - loss: 1.0397 - acc: 0.583 - ETA: 2:51 - loss: 1.0393 - acc: 0.583 - ETA: 2:49 - loss: 1.0390 - acc: 0.583 - ETA: 2:48 - loss: 1.0385 - acc: 0.583 - ETA: 2:46 - loss: 1.0384 - acc: 0.583 - ETA: 2:44 - loss: 1.0379 - acc: 0.583 - ETA: 2:42 - loss: 1.0376 - acc: 0.583 - ETA: 2:41 - loss: 1.0371 - acc: 0.584 - ETA: 2:39 - loss: 1.0367 - acc: 0.584 - ETA: 2:37 - loss: 1.0362 - acc: 0.584 - ETA: 2:35 - loss: 1.0360 - acc: 0.584 - ETA: 2:34 - loss: 1.0357 - acc: 0.584 - ETA: 2:32 - loss: 1.0354 - acc: 0.584 - ETA: 2:30 - loss: 1.0350 - acc: 0.584 - ETA: 2:29 - loss: 1.0347 - acc: 0.584 - ETA: 2:27 - loss: 1.0346 - acc: 0.584 - ETA: 2:25 - loss: 1.0341 - acc: 0.585 - ETA: 2:24 - loss: 1.0337 - acc: 0.585 - ETA: 2:22 - loss: 1.0337 - acc: 0.585 - ETA: 2:20 - loss: 1.0331 - acc: 0.585 - ETA: 2:19 - loss: 1.0327 - acc: 0.585 - ETA: 2:17 - loss: 1.0325 - acc: 0.585 - ETA: 2:15 - loss: 1.0321 - acc: 0.585 - ETA: 2:14 - loss: 1.0317 - acc: 0.586 - ETA: 2:12 - loss: 1.0312 - acc: 0.586 - ETA: 2:10 - loss: 1.0308 - acc: 0.586 - ETA: 2:09 - loss: 1.0302 - acc: 0.586 - ETA: 2:07 - loss: 1.0298 - acc: 0.586 - ETA: 2:05 - loss: 1.0294 - acc: 0.586 - ETA: 2:04 - loss: 1.0292 - acc: 0.586 - ETA: 2:02 - loss: 1.0289 - acc: 0.586 - ETA: 2:01 - loss: 1.0284 - acc: 0.587 - ETA: 1:59 - loss: 1.0282 - acc: 0.587 - ETA: 1:57 - loss: 1.0275 - acc: 0.587 - ETA: 1:56 - loss: 1.0273 - acc: 0.587 - ETA: 1:54 - loss: 1.0271 - acc: 0.5877124848/124848 [==============================] - ETA: 1:53 - loss: 1.0268 - acc: 0.587 - ETA: 1:51 - loss: 1.0265 - acc: 0.587 - ETA: 1:50 - loss: 1.0260 - acc: 0.587 - ETA: 1:48 - loss: 1.0257 - acc: 0.588 - ETA: 1:46 - loss: 1.0255 - acc: 0.588 - ETA: 1:45 - loss: 1.0254 - acc: 0.588 - ETA: 1:43 - loss: 1.0252 - acc: 0.588 - ETA: 1:42 - loss: 1.0248 - acc: 0.588 - ETA: 1:40 - loss: 1.0245 - acc: 0.588 - ETA: 1:39 - loss: 1.0242 - acc: 0.588 - ETA: 1:37 - loss: 1.0238 - acc: 0.588 - ETA: 1:36 - loss: 1.0236 - acc: 0.588 - ETA: 1:34 - loss: 1.0233 - acc: 0.589 - ETA: 1:33 - loss: 1.0231 - acc: 0.589 - ETA: 1:31 - loss: 1.0230 - acc: 0.589 - ETA: 1:30 - loss: 1.0227 - acc: 0.589 - ETA: 1:28 - loss: 1.0225 - acc: 0.589 - ETA: 1:27 - loss: 1.0222 - acc: 0.589 - ETA: 1:25 - loss: 1.0218 - acc: 0.589 - ETA: 1:24 - loss: 1.0215 - acc: 0.589 - ETA: 1:22 - loss: 1.0212 - acc: 0.589 - ETA: 1:21 - loss: 1.0208 - acc: 0.589 - ETA: 1:19 - loss: 1.0204 - acc: 0.590 - ETA: 1:18 - loss: 1.0199 - acc: 0.590 - ETA: 1:17 - loss: 1.0196 - acc: 0.590 - ETA: 1:15 - loss: 1.0194 - acc: 0.590 - ETA: 1:14 - loss: 1.0190 - acc: 0.590 - ETA: 1:12 - loss: 1.0188 - acc: 0.590 - ETA: 1:11 - loss: 1.0185 - acc: 0.590 - ETA: 1:09 - loss: 1.0185 - acc: 0.590 - ETA: 1:08 - loss: 1.0182 - acc: 0.591 - ETA: 1:06 - loss: 1.0178 - acc: 0.591 - ETA: 1:05 - loss: 1.0176 - acc: 0.591 - ETA: 1:04 - loss: 1.0174 - acc: 0.591 - ETA: 1:02 - loss: 1.0168 - acc: 0.591 - ETA: 1:01 - loss: 1.0166 - acc: 0.591 - ETA: 59s - loss: 1.0163 - acc: 0.591 - ETA: 58s - loss: 1.0160 - acc: 0.59 - ETA: 57s - loss: 1.0159 - acc: 0.59 - ETA: 55s - loss: 1.0154 - acc: 0.59 - ETA: 54s - loss: 1.0154 - acc: 0.59 - ETA: 53s - loss: 1.0150 - acc: 0.59 - ETA: 51s - loss: 1.0148 - acc: 0.59 - ETA: 50s - loss: 1.0145 - acc: 0.59 - ETA: 48s - loss: 1.0142 - acc: 0.59 - ETA: 47s - loss: 1.0141 - acc: 0.59 - ETA: 46s - loss: 1.0138 - acc: 0.59 - ETA: 44s - loss: 1.0135 - acc: 0.59 - ETA: 43s - loss: 1.0132 - acc: 0.59 - ETA: 42s - loss: 1.0131 - acc: 0.59 - ETA: 40s - loss: 1.0128 - acc: 0.59 - ETA: 39s - loss: 1.0125 - acc: 0.59 - ETA: 38s - loss: 1.0121 - acc: 0.59 - ETA: 36s - loss: 1.0119 - acc: 0.59 - ETA: 35s - loss: 1.0118 - acc: 0.59 - ETA: 34s - loss: 1.0115 - acc: 0.59 - ETA: 32s - loss: 1.0112 - acc: 0.59 - ETA: 31s - loss: 1.0109 - acc: 0.59 - ETA: 30s - loss: 1.0106 - acc: 0.59 - ETA: 28s - loss: 1.0100 - acc: 0.59 - ETA: 27s - loss: 1.0097 - acc: 0.59 - ETA: 26s - loss: 1.0093 - acc: 0.59 - ETA: 24s - loss: 1.0088 - acc: 0.59 - ETA: 23s - loss: 1.0084 - acc: 0.59 - ETA: 22s - loss: 1.0080 - acc: 0.59 - ETA: 21s - loss: 1.0079 - acc: 0.59 - ETA: 19s - loss: 1.0075 - acc: 0.59 - ETA: 18s - loss: 1.0073 - acc: 0.59 - ETA: 17s - loss: 1.0069 - acc: 0.59 - ETA: 15s - loss: 1.0067 - acc: 0.59 - ETA: 14s - loss: 1.0063 - acc: 0.59 - ETA: 13s - loss: 1.0063 - acc: 0.59 - ETA: 12s - loss: 1.0058 - acc: 0.59 - ETA: 10s - loss: 1.0055 - acc: 0.59 - ETA: 9s - loss: 1.0053 - acc: 0.5956 - ETA: 8s - loss: 1.0052 - acc: 0.595 - ETA: 7s - loss: 1.0050 - acc: 0.595 - ETA: 5s - loss: 1.0049 - acc: 0.595 - ETA: 4s - loss: 1.0046 - acc: 0.595 - ETA: 3s - loss: 1.0044 - acc: 0.595 - ETA: 2s - loss: 1.0039 - acc: 0.596 - ETA: 0s - loss: 1.0037 - acc: 0.596 - 624s 5ms/step - loss: 1.0034 - acc: 0.5962 - val_loss: 0.8473 - val_acc: 0.6506\n",
      "Epoch 2/6\n"
     ]
    },
    {
     "name": "stdout",
     "output_type": "stream",
     "text": [
      " 52224/124848 [===========>..................] - ETA: 3:50 - loss: 0.7856 - acc: 0.703 - ETA: 3:51 - loss: 0.7716 - acc: 0.689 - ETA: 3:52 - loss: 0.7776 - acc: 0.695 - ETA: 3:52 - loss: 0.7509 - acc: 0.698 - ETA: 3:53 - loss: 0.7584 - acc: 0.689 - ETA: 3:53 - loss: 0.7698 - acc: 0.681 - ETA: 3:53 - loss: 0.7853 - acc: 0.680 - ETA: 3:53 - loss: 0.7921 - acc: 0.675 - ETA: 3:51 - loss: 0.7871 - acc: 0.678 - ETA: 3:50 - loss: 0.7862 - acc: 0.676 - ETA: 3:50 - loss: 0.7875 - acc: 0.675 - ETA: 3:49 - loss: 0.7880 - acc: 0.674 - ETA: 3:49 - loss: 0.7842 - acc: 0.676 - ETA: 3:48 - loss: 0.7865 - acc: 0.676 - ETA: 3:48 - loss: 0.7908 - acc: 0.675 - ETA: 3:48 - loss: 0.7857 - acc: 0.676 - ETA: 3:47 - loss: 0.7898 - acc: 0.676 - ETA: 3:47 - loss: 0.7908 - acc: 0.676 - ETA: 3:46 - loss: 0.7884 - acc: 0.677 - ETA: 3:45 - loss: 0.7905 - acc: 0.674 - ETA: 3:45 - loss: 0.7876 - acc: 0.676 - ETA: 3:45 - loss: 0.7842 - acc: 0.678 - ETA: 3:44 - loss: 0.7857 - acc: 0.676 - ETA: 3:43 - loss: 0.7885 - acc: 0.674 - ETA: 3:43 - loss: 0.7917 - acc: 0.672 - ETA: 3:42 - loss: 0.7929 - acc: 0.672 - ETA: 3:42 - loss: 0.7946 - acc: 0.672 - ETA: 3:41 - loss: 0.7955 - acc: 0.671 - ETA: 3:41 - loss: 0.7956 - acc: 0.671 - ETA: 3:40 - loss: 0.7947 - acc: 0.671 - ETA: 3:40 - loss: 0.7974 - acc: 0.670 - ETA: 3:39 - loss: 0.7997 - acc: 0.670 - ETA: 3:39 - loss: 0.8018 - acc: 0.668 - ETA: 3:38 - loss: 0.8053 - acc: 0.666 - ETA: 3:38 - loss: 0.8035 - acc: 0.667 - ETA: 3:37 - loss: 0.8035 - acc: 0.666 - ETA: 3:37 - loss: 0.8036 - acc: 0.666 - ETA: 3:36 - loss: 0.8042 - acc: 0.665 - ETA: 3:36 - loss: 0.8051 - acc: 0.664 - ETA: 3:36 - loss: 0.8055 - acc: 0.665 - ETA: 3:35 - loss: 0.8071 - acc: 0.665 - ETA: 3:34 - loss: 0.8056 - acc: 0.666 - ETA: 3:34 - loss: 0.8066 - acc: 0.665 - ETA: 3:34 - loss: 0.8067 - acc: 0.666 - ETA: 3:33 - loss: 0.8093 - acc: 0.665 - ETA: 3:32 - loss: 0.8096 - acc: 0.665 - ETA: 3:32 - loss: 0.8104 - acc: 0.666 - ETA: 3:32 - loss: 0.8105 - acc: 0.666 - ETA: 3:31 - loss: 0.8115 - acc: 0.665 - ETA: 3:31 - loss: 0.8101 - acc: 0.665 - ETA: 3:30 - loss: 0.8095 - acc: 0.666 - ETA: 3:30 - loss: 0.8096 - acc: 0.665 - ETA: 3:29 - loss: 0.8090 - acc: 0.666 - ETA: 3:29 - loss: 0.8078 - acc: 0.667 - ETA: 3:28 - loss: 0.8087 - acc: 0.666 - ETA: 3:28 - loss: 0.8083 - acc: 0.667 - ETA: 3:27 - loss: 0.8077 - acc: 0.666 - ETA: 3:27 - loss: 0.8074 - acc: 0.666 - ETA: 3:26 - loss: 0.8067 - acc: 0.667 - ETA: 3:26 - loss: 0.8059 - acc: 0.668 - ETA: 3:25 - loss: 0.8055 - acc: 0.667 - ETA: 3:25 - loss: 0.8048 - acc: 0.667 - ETA: 3:24 - loss: 0.8065 - acc: 0.667 - ETA: 3:24 - loss: 0.8057 - acc: 0.667 - ETA: 3:23 - loss: 0.8040 - acc: 0.668 - ETA: 3:23 - loss: 0.8043 - acc: 0.667 - ETA: 3:22 - loss: 0.8040 - acc: 0.667 - ETA: 3:22 - loss: 0.8041 - acc: 0.667 - ETA: 3:21 - loss: 0.8046 - acc: 0.667 - ETA: 3:21 - loss: 0.8045 - acc: 0.667 - ETA: 3:20 - loss: 0.8050 - acc: 0.667 - ETA: 3:20 - loss: 0.8033 - acc: 0.668 - ETA: 3:19 - loss: 0.8034 - acc: 0.668 - ETA: 3:19 - loss: 0.8033 - acc: 0.668 - ETA: 3:19 - loss: 0.8025 - acc: 0.669 - ETA: 3:18 - loss: 0.8014 - acc: 0.669 - ETA: 3:18 - loss: 0.8031 - acc: 0.668 - ETA: 3:17 - loss: 0.8033 - acc: 0.668 - ETA: 3:17 - loss: 0.8029 - acc: 0.668 - ETA: 3:16 - loss: 0.8038 - acc: 0.668 - ETA: 3:16 - loss: 0.8047 - acc: 0.667 - ETA: 3:15 - loss: 0.8054 - acc: 0.667 - ETA: 3:15 - loss: 0.8052 - acc: 0.667 - ETA: 3:14 - loss: 0.8045 - acc: 0.668 - ETA: 3:14 - loss: 0.8040 - acc: 0.668 - ETA: 3:13 - loss: 0.8041 - acc: 0.668 - ETA: 3:13 - loss: 0.8044 - acc: 0.668 - ETA: 3:12 - loss: 0.8055 - acc: 0.668 - ETA: 3:12 - loss: 0.8061 - acc: 0.667 - ETA: 3:11 - loss: 0.8057 - acc: 0.668 - ETA: 3:11 - loss: 0.8064 - acc: 0.667 - ETA: 3:10 - loss: 0.8069 - acc: 0.667 - ETA: 3:10 - loss: 0.8065 - acc: 0.667 - ETA: 3:09 - loss: 0.8062 - acc: 0.667 - ETA: 3:09 - loss: 0.8064 - acc: 0.667 - ETA: 3:08 - loss: 0.8062 - acc: 0.667 - ETA: 3:08 - loss: 0.8057 - acc: 0.668 - ETA: 3:08 - loss: 0.8055 - acc: 0.668 - ETA: 3:07 - loss: 0.8053 - acc: 0.668 - ETA: 3:07 - loss: 0.8050 - acc: 0.668 - ETA: 3:06 - loss: 0.8048 - acc: 0.668 - ETA: 3:06 - loss: 0.8049 - acc: 0.668 - ETA: 3:05 - loss: 0.8055 - acc: 0.668 - ETA: 3:05 - loss: 0.8046 - acc: 0.668 - ETA: 3:04 - loss: 0.8044 - acc: 0.668 - ETA: 3:04 - loss: 0.8047 - acc: 0.669 - ETA: 3:03 - loss: 0.8038 - acc: 0.669 - ETA: 3:03 - loss: 0.8038 - acc: 0.669 - ETA: 3:02 - loss: 0.8043 - acc: 0.669 - ETA: 3:02 - loss: 0.8051 - acc: 0.669 - ETA: 3:01 - loss: 0.8047 - acc: 0.669 - ETA: 3:01 - loss: 0.8054 - acc: 0.668 - ETA: 3:00 - loss: 0.8056 - acc: 0.668 - ETA: 3:00 - loss: 0.8058 - acc: 0.668 - ETA: 2:59 - loss: 0.8053 - acc: 0.668 - ETA: 2:59 - loss: 0.8059 - acc: 0.668 - ETA: 2:58 - loss: 0.8056 - acc: 0.668 - ETA: 2:58 - loss: 0.8054 - acc: 0.669 - ETA: 2:57 - loss: 0.8057 - acc: 0.669 - ETA: 2:57 - loss: 0.8055 - acc: 0.669 - ETA: 2:56 - loss: 0.8057 - acc: 0.669 - ETA: 2:56 - loss: 0.8056 - acc: 0.669 - ETA: 2:56 - loss: 0.8063 - acc: 0.669 - ETA: 2:55 - loss: 0.8071 - acc: 0.669 - ETA: 2:55 - loss: 0.8071 - acc: 0.669 - ETA: 2:54 - loss: 0.8069 - acc: 0.668 - ETA: 2:54 - loss: 0.8073 - acc: 0.668 - ETA: 2:53 - loss: 0.8074 - acc: 0.668 - ETA: 2:53 - loss: 0.8078 - acc: 0.668 - ETA: 2:52 - loss: 0.8074 - acc: 0.668 - ETA: 2:52 - loss: 0.8077 - acc: 0.668 - ETA: 2:52 - loss: 0.8076 - acc: 0.668 - ETA: 2:51 - loss: 0.8066 - acc: 0.668 - ETA: 2:51 - loss: 0.8068 - acc: 0.668 - ETA: 2:50 - loss: 0.8071 - acc: 0.668 - ETA: 2:50 - loss: 0.8064 - acc: 0.669 - ETA: 2:49 - loss: 0.8066 - acc: 0.669 - ETA: 2:49 - loss: 0.8066 - acc: 0.669 - ETA: 2:48 - loss: 0.8074 - acc: 0.668 - ETA: 2:48 - loss: 0.8068 - acc: 0.669 - ETA: 2:47 - loss: 0.8063 - acc: 0.669 - ETA: 2:47 - loss: 0.8062 - acc: 0.669 - ETA: 2:46 - loss: 0.8056 - acc: 0.669 - ETA: 2:46 - loss: 0.8052 - acc: 0.670 - ETA: 2:45 - loss: 0.8049 - acc: 0.670 - ETA: 2:45 - loss: 0.8050 - acc: 0.670 - ETA: 2:44 - loss: 0.8048 - acc: 0.670 - ETA: 2:44 - loss: 0.8050 - acc: 0.670 - ETA: 2:43 - loss: 0.8047 - acc: 0.670 - ETA: 2:43 - loss: 0.8052 - acc: 0.670 - ETA: 2:42 - loss: 0.8058 - acc: 0.670 - ETA: 2:42 - loss: 0.8057 - acc: 0.670 - ETA: 2:41 - loss: 0.8056 - acc: 0.670 - ETA: 2:41 - loss: 0.8055 - acc: 0.670 - ETA: 2:41 - loss: 0.8057 - acc: 0.670 - ETA: 2:40 - loss: 0.8058 - acc: 0.670 - ETA: 2:40 - loss: 0.8064 - acc: 0.670 - ETA: 2:39 - loss: 0.8067 - acc: 0.670 - ETA: 2:39 - loss: 0.8067 - acc: 0.670 - ETA: 2:38 - loss: 0.8078 - acc: 0.669 - ETA: 2:38 - loss: 0.8077 - acc: 0.669 - ETA: 2:37 - loss: 0.8078 - acc: 0.670 - ETA: 2:37 - loss: 0.8077 - acc: 0.670 - ETA: 2:36 - loss: 0.8077 - acc: 0.670 - ETA: 2:36 - loss: 0.8074 - acc: 0.670 - ETA: 2:35 - loss: 0.8070 - acc: 0.670 - ETA: 2:35 - loss: 0.8074 - acc: 0.670 - ETA: 2:34 - loss: 0.8072 - acc: 0.670 - ETA: 2:34 - loss: 0.8077 - acc: 0.670 - ETA: 2:33 - loss: 0.8076 - acc: 0.670 - ETA: 2:33 - loss: 0.8079 - acc: 0.670 - ETA: 2:32 - loss: 0.8080 - acc: 0.670 - ETA: 2:32 - loss: 0.8081 - acc: 0.670 - ETA: 2:31 - loss: 0.8081 - acc: 0.670 - ETA: 2:31 - loss: 0.8081 - acc: 0.670 - ETA: 2:30 - loss: 0.8082 - acc: 0.670 - ETA: 2:30 - loss: 0.8078 - acc: 0.670 - ETA: 2:29 - loss: 0.8078 - acc: 0.670 - ETA: 2:29 - loss: 0.8079 - acc: 0.670 - ETA: 2:28 - loss: 0.8079 - acc: 0.670 - ETA: 2:28 - loss: 0.8078 - acc: 0.670 - ETA: 2:27 - loss: 0.8079 - acc: 0.670 - ETA: 2:27 - loss: 0.8078 - acc: 0.670 - ETA: 2:26 - loss: 0.8077 - acc: 0.670 - ETA: 2:26 - loss: 0.8080 - acc: 0.670 - ETA: 2:25 - loss: 0.8080 - acc: 0.670 - ETA: 2:25 - loss: 0.8077 - acc: 0.670 - ETA: 2:24 - loss: 0.8076 - acc: 0.670 - ETA: 2:24 - loss: 0.8076 - acc: 0.671 - ETA: 2:24 - loss: 0.8078 - acc: 0.670 - ETA: 2:23 - loss: 0.8074 - acc: 0.670 - ETA: 2:23 - loss: 0.8073 - acc: 0.670 - ETA: 2:22 - loss: 0.8068 - acc: 0.670 - ETA: 2:22 - loss: 0.8063 - acc: 0.671 - ETA: 2:21 - loss: 0.8064 - acc: 0.671 - ETA: 2:21 - loss: 0.8061 - acc: 0.671 - ETA: 2:20 - loss: 0.8060 - acc: 0.671 - ETA: 2:20 - loss: 0.8057 - acc: 0.671 - ETA: 2:19 - loss: 0.8063 - acc: 0.671 - ETA: 2:19 - loss: 0.8059 - acc: 0.671 - ETA: 2:18 - loss: 0.8059 - acc: 0.671 - ETA: 2:18 - loss: 0.8061 - acc: 0.670 - ETA: 2:17 - loss: 0.8065 - acc: 0.670 - ETA: 2:17 - loss: 0.8064 - acc: 0.6709104960/124848 [========================>.....] - ETA: 2:16 - loss: 0.8062 - acc: 0.671 - ETA: 2:16 - loss: 0.8065 - acc: 0.670 - ETA: 2:15 - loss: 0.8069 - acc: 0.670 - ETA: 2:15 - loss: 0.8066 - acc: 0.670 - ETA: 2:14 - loss: 0.8063 - acc: 0.671 - ETA: 2:14 - loss: 0.8061 - acc: 0.671 - ETA: 2:13 - loss: 0.8059 - acc: 0.671 - ETA: 2:13 - loss: 0.8057 - acc: 0.671 - ETA: 2:12 - loss: 0.8056 - acc: 0.671 - ETA: 2:12 - loss: 0.8057 - acc: 0.671 - ETA: 2:11 - loss: 0.8053 - acc: 0.671 - ETA: 2:11 - loss: 0.8056 - acc: 0.671 - ETA: 2:10 - loss: 0.8055 - acc: 0.671 - ETA: 2:10 - loss: 0.8052 - acc: 0.671 - ETA: 2:09 - loss: 0.8052 - acc: 0.671 - ETA: 2:09 - loss: 0.8055 - acc: 0.671 - ETA: 2:08 - loss: 0.8050 - acc: 0.672 - ETA: 2:08 - loss: 0.8048 - acc: 0.672 - ETA: 2:07 - loss: 0.8046 - acc: 0.672 - ETA: 2:07 - loss: 0.8045 - acc: 0.672 - ETA: 2:07 - loss: 0.8049 - acc: 0.671 - ETA: 2:06 - loss: 0.8047 - acc: 0.671 - ETA: 2:06 - loss: 0.8049 - acc: 0.671 - ETA: 2:05 - loss: 0.8054 - acc: 0.671 - ETA: 2:05 - loss: 0.8052 - acc: 0.671 - ETA: 2:04 - loss: 0.8052 - acc: 0.671 - ETA: 2:04 - loss: 0.8053 - acc: 0.671 - ETA: 2:03 - loss: 0.8049 - acc: 0.672 - ETA: 2:03 - loss: 0.8048 - acc: 0.672 - ETA: 2:02 - loss: 0.8050 - acc: 0.672 - ETA: 2:02 - loss: 0.8049 - acc: 0.672 - ETA: 2:01 - loss: 0.8051 - acc: 0.672 - ETA: 2:01 - loss: 0.8049 - acc: 0.672 - ETA: 2:00 - loss: 0.8046 - acc: 0.672 - ETA: 2:00 - loss: 0.8044 - acc: 0.672 - ETA: 1:59 - loss: 0.8047 - acc: 0.672 - ETA: 1:59 - loss: 0.8051 - acc: 0.671 - ETA: 1:58 - loss: 0.8053 - acc: 0.671 - ETA: 1:58 - loss: 0.8051 - acc: 0.671 - ETA: 1:57 - loss: 0.8050 - acc: 0.671 - ETA: 1:57 - loss: 0.8050 - acc: 0.671 - ETA: 1:56 - loss: 0.8050 - acc: 0.671 - ETA: 1:56 - loss: 0.8051 - acc: 0.671 - ETA: 1:55 - loss: 0.8053 - acc: 0.671 - ETA: 1:55 - loss: 0.8049 - acc: 0.671 - ETA: 1:54 - loss: 0.8051 - acc: 0.671 - ETA: 1:54 - loss: 0.8053 - acc: 0.671 - ETA: 1:53 - loss: 0.8055 - acc: 0.671 - ETA: 1:53 - loss: 0.8062 - acc: 0.671 - ETA: 1:52 - loss: 0.8065 - acc: 0.671 - ETA: 1:52 - loss: 0.8068 - acc: 0.671 - ETA: 1:51 - loss: 0.8064 - acc: 0.671 - ETA: 1:51 - loss: 0.8066 - acc: 0.671 - ETA: 1:51 - loss: 0.8065 - acc: 0.671 - ETA: 1:50 - loss: 0.8064 - acc: 0.671 - ETA: 1:50 - loss: 0.8067 - acc: 0.670 - ETA: 1:49 - loss: 0.8066 - acc: 0.670 - ETA: 1:49 - loss: 0.8069 - acc: 0.670 - ETA: 1:48 - loss: 0.8070 - acc: 0.670 - ETA: 1:48 - loss: 0.8066 - acc: 0.670 - ETA: 1:47 - loss: 0.8065 - acc: 0.670 - ETA: 1:47 - loss: 0.8062 - acc: 0.670 - ETA: 1:46 - loss: 0.8062 - acc: 0.670 - ETA: 1:46 - loss: 0.8064 - acc: 0.670 - ETA: 1:45 - loss: 0.8067 - acc: 0.670 - ETA: 1:45 - loss: 0.8068 - acc: 0.670 - ETA: 1:44 - loss: 0.8072 - acc: 0.670 - ETA: 1:44 - loss: 0.8073 - acc: 0.670 - ETA: 1:43 - loss: 0.8072 - acc: 0.670 - ETA: 1:43 - loss: 0.8072 - acc: 0.670 - ETA: 1:42 - loss: 0.8073 - acc: 0.670 - ETA: 1:42 - loss: 0.8075 - acc: 0.670 - ETA: 1:41 - loss: 0.8078 - acc: 0.670 - ETA: 1:41 - loss: 0.8078 - acc: 0.670 - ETA: 1:40 - loss: 0.8078 - acc: 0.670 - ETA: 1:40 - loss: 0.8077 - acc: 0.670 - ETA: 1:39 - loss: 0.8075 - acc: 0.670 - ETA: 1:39 - loss: 0.8074 - acc: 0.670 - ETA: 1:38 - loss: 0.8077 - acc: 0.670 - ETA: 1:38 - loss: 0.8075 - acc: 0.670 - ETA: 1:38 - loss: 0.8076 - acc: 0.670 - ETA: 1:37 - loss: 0.8076 - acc: 0.670 - ETA: 1:37 - loss: 0.8078 - acc: 0.670 - ETA: 1:36 - loss: 0.8076 - acc: 0.670 - ETA: 1:36 - loss: 0.8077 - acc: 0.670 - ETA: 1:35 - loss: 0.8076 - acc: 0.670 - ETA: 1:35 - loss: 0.8076 - acc: 0.670 - ETA: 1:34 - loss: 0.8075 - acc: 0.670 - ETA: 1:34 - loss: 0.8078 - acc: 0.670 - ETA: 1:33 - loss: 0.8077 - acc: 0.670 - ETA: 1:33 - loss: 0.8077 - acc: 0.670 - ETA: 1:32 - loss: 0.8078 - acc: 0.670 - ETA: 1:32 - loss: 0.8079 - acc: 0.670 - ETA: 1:31 - loss: 0.8081 - acc: 0.670 - ETA: 1:31 - loss: 0.8078 - acc: 0.670 - ETA: 1:30 - loss: 0.8077 - acc: 0.670 - ETA: 1:30 - loss: 0.8076 - acc: 0.670 - ETA: 1:29 - loss: 0.8076 - acc: 0.670 - ETA: 1:29 - loss: 0.8076 - acc: 0.670 - ETA: 1:28 - loss: 0.8077 - acc: 0.669 - ETA: 1:28 - loss: 0.8074 - acc: 0.670 - ETA: 1:27 - loss: 0.8077 - acc: 0.669 - ETA: 1:27 - loss: 0.8075 - acc: 0.670 - ETA: 1:26 - loss: 0.8076 - acc: 0.669 - ETA: 1:26 - loss: 0.8076 - acc: 0.670 - ETA: 1:25 - loss: 0.8076 - acc: 0.669 - ETA: 1:25 - loss: 0.8077 - acc: 0.669 - ETA: 1:24 - loss: 0.8077 - acc: 0.670 - ETA: 1:24 - loss: 0.8079 - acc: 0.669 - ETA: 1:24 - loss: 0.8080 - acc: 0.669 - ETA: 1:23 - loss: 0.8077 - acc: 0.670 - ETA: 1:23 - loss: 0.8076 - acc: 0.670 - ETA: 1:22 - loss: 0.8076 - acc: 0.670 - ETA: 1:22 - loss: 0.8075 - acc: 0.669 - ETA: 1:21 - loss: 0.8074 - acc: 0.669 - ETA: 1:21 - loss: 0.8073 - acc: 0.670 - ETA: 1:20 - loss: 0.8073 - acc: 0.670 - ETA: 1:20 - loss: 0.8071 - acc: 0.670 - ETA: 1:19 - loss: 0.8072 - acc: 0.670 - ETA: 1:19 - loss: 0.8070 - acc: 0.670 - ETA: 1:18 - loss: 0.8068 - acc: 0.670 - ETA: 1:18 - loss: 0.8071 - acc: 0.670 - ETA: 1:17 - loss: 0.8071 - acc: 0.670 - ETA: 1:17 - loss: 0.8069 - acc: 0.670 - ETA: 1:16 - loss: 0.8067 - acc: 0.670 - ETA: 1:16 - loss: 0.8067 - acc: 0.670 - ETA: 1:15 - loss: 0.8067 - acc: 0.670 - ETA: 1:15 - loss: 0.8070 - acc: 0.670 - ETA: 1:14 - loss: 0.8070 - acc: 0.670 - ETA: 1:14 - loss: 0.8068 - acc: 0.670 - ETA: 1:13 - loss: 0.8069 - acc: 0.670 - ETA: 1:13 - loss: 0.8070 - acc: 0.670 - ETA: 1:12 - loss: 0.8067 - acc: 0.670 - ETA: 1:12 - loss: 0.8067 - acc: 0.670 - ETA: 1:11 - loss: 0.8066 - acc: 0.670 - ETA: 1:11 - loss: 0.8066 - acc: 0.670 - ETA: 1:10 - loss: 0.8066 - acc: 0.670 - ETA: 1:10 - loss: 0.8067 - acc: 0.670 - ETA: 1:09 - loss: 0.8069 - acc: 0.670 - ETA: 1:09 - loss: 0.8066 - acc: 0.670 - ETA: 1:09 - loss: 0.8067 - acc: 0.670 - ETA: 1:08 - loss: 0.8068 - acc: 0.670 - ETA: 1:08 - loss: 0.8065 - acc: 0.670 - ETA: 1:07 - loss: 0.8066 - acc: 0.670 - ETA: 1:07 - loss: 0.8065 - acc: 0.670 - ETA: 1:06 - loss: 0.8065 - acc: 0.670 - ETA: 1:06 - loss: 0.8065 - acc: 0.670 - ETA: 1:05 - loss: 0.8064 - acc: 0.670 - ETA: 1:05 - loss: 0.8064 - acc: 0.670 - ETA: 1:04 - loss: 0.8065 - acc: 0.670 - ETA: 1:04 - loss: 0.8064 - acc: 0.670 - ETA: 1:03 - loss: 0.8064 - acc: 0.670 - ETA: 1:03 - loss: 0.8064 - acc: 0.670 - ETA: 1:02 - loss: 0.8064 - acc: 0.670 - ETA: 1:02 - loss: 0.8062 - acc: 0.670 - ETA: 1:01 - loss: 0.8064 - acc: 0.670 - ETA: 1:01 - loss: 0.8062 - acc: 0.670 - ETA: 1:00 - loss: 0.8062 - acc: 0.670 - ETA: 1:00 - loss: 0.8059 - acc: 0.670 - ETA: 59s - loss: 0.8062 - acc: 0.670 - ETA: 59s - loss: 0.8063 - acc: 0.67 - ETA: 58s - loss: 0.8064 - acc: 0.67 - ETA: 58s - loss: 0.8063 - acc: 0.67 - ETA: 57s - loss: 0.8063 - acc: 0.67 - ETA: 57s - loss: 0.8063 - acc: 0.67 - ETA: 57s - loss: 0.8061 - acc: 0.67 - ETA: 56s - loss: 0.8062 - acc: 0.67 - ETA: 56s - loss: 0.8062 - acc: 0.67 - ETA: 55s - loss: 0.8060 - acc: 0.67 - ETA: 55s - loss: 0.8060 - acc: 0.67 - ETA: 54s - loss: 0.8059 - acc: 0.67 - ETA: 54s - loss: 0.8060 - acc: 0.67 - ETA: 53s - loss: 0.8060 - acc: 0.67 - ETA: 53s - loss: 0.8060 - acc: 0.67 - ETA: 52s - loss: 0.8062 - acc: 0.66 - ETA: 52s - loss: 0.8063 - acc: 0.66 - ETA: 51s - loss: 0.8064 - acc: 0.66 - ETA: 51s - loss: 0.8063 - acc: 0.67 - ETA: 50s - loss: 0.8063 - acc: 0.67 - ETA: 50s - loss: 0.8062 - acc: 0.67 - ETA: 49s - loss: 0.8066 - acc: 0.66 - ETA: 49s - loss: 0.8067 - acc: 0.66 - ETA: 48s - loss: 0.8066 - acc: 0.66 - ETA: 48s - loss: 0.8065 - acc: 0.67 - ETA: 47s - loss: 0.8064 - acc: 0.67 - ETA: 47s - loss: 0.8064 - acc: 0.67 - ETA: 46s - loss: 0.8065 - acc: 0.66 - ETA: 46s - loss: 0.8066 - acc: 0.66 - ETA: 46s - loss: 0.8068 - acc: 0.66 - ETA: 45s - loss: 0.8068 - acc: 0.66 - ETA: 45s - loss: 0.8067 - acc: 0.66 - ETA: 44s - loss: 0.8065 - acc: 0.66 - ETA: 44s - loss: 0.8066 - acc: 0.66 - ETA: 43s - loss: 0.8066 - acc: 0.67 - ETA: 43s - loss: 0.8066 - acc: 0.67 - ETA: 42s - loss: 0.8068 - acc: 0.66 - ETA: 42s - loss: 0.8066 - acc: 0.67 - ETA: 41s - loss: 0.8067 - acc: 0.67 - ETA: 41s - loss: 0.8067 - acc: 0.67 - ETA: 40s - loss: 0.8066 - acc: 0.67 - ETA: 40s - loss: 0.8064 - acc: 0.67 - ETA: 39s - loss: 0.8063 - acc: 0.67 - ETA: 39s - loss: 0.8062 - acc: 0.67 - ETA: 38s - loss: 0.8062 - acc: 0.67 - ETA: 38s - loss: 0.8063 - acc: 0.67 - ETA: 37s - loss: 0.8063 - acc: 0.6704"
     ]
    },
    {
     "name": "stdout",
     "output_type": "stream",
     "text": [
      "124848/124848 [==============================] - ETA: 37s - loss: 0.8064 - acc: 0.67 - ETA: 36s - loss: 0.8068 - acc: 0.67 - ETA: 36s - loss: 0.8068 - acc: 0.67 - ETA: 35s - loss: 0.8067 - acc: 0.67 - ETA: 35s - loss: 0.8070 - acc: 0.66 - ETA: 34s - loss: 0.8070 - acc: 0.66 - ETA: 34s - loss: 0.8068 - acc: 0.67 - ETA: 33s - loss: 0.8067 - acc: 0.67 - ETA: 33s - loss: 0.8067 - acc: 0.67 - ETA: 32s - loss: 0.8066 - acc: 0.67 - ETA: 32s - loss: 0.8067 - acc: 0.67 - ETA: 31s - loss: 0.8067 - acc: 0.67 - ETA: 31s - loss: 0.8067 - acc: 0.67 - ETA: 30s - loss: 0.8066 - acc: 0.67 - ETA: 30s - loss: 0.8066 - acc: 0.67 - ETA: 29s - loss: 0.8067 - acc: 0.67 - ETA: 29s - loss: 0.8066 - acc: 0.67 - ETA: 29s - loss: 0.8068 - acc: 0.67 - ETA: 28s - loss: 0.8067 - acc: 0.67 - ETA: 28s - loss: 0.8069 - acc: 0.66 - ETA: 27s - loss: 0.8068 - acc: 0.66 - ETA: 27s - loss: 0.8070 - acc: 0.66 - ETA: 26s - loss: 0.8070 - acc: 0.66 - ETA: 26s - loss: 0.8070 - acc: 0.66 - ETA: 25s - loss: 0.8069 - acc: 0.66 - ETA: 25s - loss: 0.8069 - acc: 0.66 - ETA: 24s - loss: 0.8068 - acc: 0.66 - ETA: 24s - loss: 0.8067 - acc: 0.66 - ETA: 23s - loss: 0.8070 - acc: 0.66 - ETA: 23s - loss: 0.8070 - acc: 0.66 - ETA: 22s - loss: 0.8069 - acc: 0.66 - ETA: 22s - loss: 0.8069 - acc: 0.66 - ETA: 21s - loss: 0.8069 - acc: 0.66 - ETA: 21s - loss: 0.8069 - acc: 0.66 - ETA: 20s - loss: 0.8069 - acc: 0.66 - ETA: 20s - loss: 0.8069 - acc: 0.66 - ETA: 19s - loss: 0.8071 - acc: 0.66 - ETA: 19s - loss: 0.8069 - acc: 0.66 - ETA: 18s - loss: 0.8069 - acc: 0.66 - ETA: 18s - loss: 0.8068 - acc: 0.67 - ETA: 17s - loss: 0.8068 - acc: 0.67 - ETA: 17s - loss: 0.8069 - acc: 0.67 - ETA: 16s - loss: 0.8070 - acc: 0.66 - ETA: 16s - loss: 0.8074 - acc: 0.66 - ETA: 15s - loss: 0.8075 - acc: 0.66 - ETA: 15s - loss: 0.8076 - acc: 0.66 - ETA: 14s - loss: 0.8077 - acc: 0.66 - ETA: 14s - loss: 0.8078 - acc: 0.66 - ETA: 13s - loss: 0.8078 - acc: 0.66 - ETA: 13s - loss: 0.8079 - acc: 0.66 - ETA: 12s - loss: 0.8078 - acc: 0.66 - ETA: 12s - loss: 0.8080 - acc: 0.66 - ETA: 12s - loss: 0.8079 - acc: 0.66 - ETA: 11s - loss: 0.8078 - acc: 0.66 - ETA: 11s - loss: 0.8077 - acc: 0.66 - ETA: 10s - loss: 0.8076 - acc: 0.66 - ETA: 10s - loss: 0.8077 - acc: 0.66 - ETA: 9s - loss: 0.8076 - acc: 0.6695 - ETA: 9s - loss: 0.8076 - acc: 0.669 - ETA: 8s - loss: 0.8074 - acc: 0.669 - ETA: 8s - loss: 0.8074 - acc: 0.669 - ETA: 7s - loss: 0.8075 - acc: 0.669 - ETA: 7s - loss: 0.8076 - acc: 0.669 - ETA: 6s - loss: 0.8076 - acc: 0.669 - ETA: 6s - loss: 0.8077 - acc: 0.669 - ETA: 5s - loss: 0.8079 - acc: 0.669 - ETA: 5s - loss: 0.8077 - acc: 0.669 - ETA: 4s - loss: 0.8078 - acc: 0.669 - ETA: 4s - loss: 0.8079 - acc: 0.669 - ETA: 3s - loss: 0.8080 - acc: 0.669 - ETA: 3s - loss: 0.8081 - acc: 0.669 - ETA: 2s - loss: 0.8080 - acc: 0.669 - ETA: 2s - loss: 0.8081 - acc: 0.669 - ETA: 1s - loss: 0.8082 - acc: 0.669 - ETA: 1s - loss: 0.8081 - acc: 0.669 - ETA: 0s - loss: 0.8081 - acc: 0.669 - ETA: 0s - loss: 0.8080 - acc: 0.669 - 260s 2ms/step - loss: 0.8081 - acc: 0.6692 - val_loss: 0.8088 - val_acc: 0.6664\n",
      "Epoch 3/6\n"
     ]
    },
    {
     "name": "stdout",
     "output_type": "stream",
     "text": [
      " 52224/124848 [===========>..................] - ETA: 3:52 - loss: 0.6642 - acc: 0.738 - ETA: 3:52 - loss: 0.6756 - acc: 0.736 - ETA: 3:52 - loss: 0.6775 - acc: 0.737 - ETA: 3:58 - loss: 0.6946 - acc: 0.727 - ETA: 3:58 - loss: 0.7128 - acc: 0.716 - ETA: 3:57 - loss: 0.7079 - acc: 0.714 - ETA: 3:57 - loss: 0.7113 - acc: 0.713 - ETA: 4:00 - loss: 0.7074 - acc: 0.712 - ETA: 4:01 - loss: 0.7093 - acc: 0.715 - ETA: 4:00 - loss: 0.7143 - acc: 0.712 - ETA: 3:58 - loss: 0.7180 - acc: 0.713 - ETA: 3:57 - loss: 0.7151 - acc: 0.714 - ETA: 3:56 - loss: 0.7172 - acc: 0.712 - ETA: 3:56 - loss: 0.7229 - acc: 0.707 - ETA: 3:55 - loss: 0.7156 - acc: 0.712 - ETA: 3:54 - loss: 0.7168 - acc: 0.712 - ETA: 3:53 - loss: 0.7140 - acc: 0.713 - ETA: 3:52 - loss: 0.7113 - acc: 0.714 - ETA: 3:51 - loss: 0.7123 - acc: 0.714 - ETA: 3:50 - loss: 0.7135 - acc: 0.711 - ETA: 3:49 - loss: 0.7149 - acc: 0.710 - ETA: 3:48 - loss: 0.7144 - acc: 0.709 - ETA: 3:48 - loss: 0.7159 - acc: 0.708 - ETA: 3:47 - loss: 0.7160 - acc: 0.706 - ETA: 3:47 - loss: 0.7141 - acc: 0.708 - ETA: 3:46 - loss: 0.7153 - acc: 0.706 - ETA: 3:46 - loss: 0.7173 - acc: 0.704 - ETA: 3:45 - loss: 0.7188 - acc: 0.703 - ETA: 3:44 - loss: 0.7184 - acc: 0.704 - ETA: 3:43 - loss: 0.7187 - acc: 0.704 - ETA: 3:43 - loss: 0.7195 - acc: 0.704 - ETA: 3:42 - loss: 0.7217 - acc: 0.702 - ETA: 3:42 - loss: 0.7213 - acc: 0.701 - ETA: 3:41 - loss: 0.7219 - acc: 0.702 - ETA: 3:41 - loss: 0.7212 - acc: 0.702 - ETA: 3:40 - loss: 0.7204 - acc: 0.702 - ETA: 3:39 - loss: 0.7205 - acc: 0.703 - ETA: 3:40 - loss: 0.7208 - acc: 0.703 - ETA: 3:39 - loss: 0.7192 - acc: 0.703 - ETA: 3:38 - loss: 0.7202 - acc: 0.702 - ETA: 3:38 - loss: 0.7200 - acc: 0.702 - ETA: 3:37 - loss: 0.7180 - acc: 0.703 - ETA: 3:37 - loss: 0.7166 - acc: 0.704 - ETA: 3:36 - loss: 0.7165 - acc: 0.704 - ETA: 3:36 - loss: 0.7152 - acc: 0.705 - ETA: 3:36 - loss: 0.7156 - acc: 0.705 - ETA: 3:35 - loss: 0.7178 - acc: 0.704 - ETA: 3:34 - loss: 0.7172 - acc: 0.705 - ETA: 3:34 - loss: 0.7179 - acc: 0.704 - ETA: 3:33 - loss: 0.7180 - acc: 0.704 - ETA: 3:33 - loss: 0.7168 - acc: 0.704 - ETA: 3:32 - loss: 0.7188 - acc: 0.704 - ETA: 3:32 - loss: 0.7201 - acc: 0.703 - ETA: 3:31 - loss: 0.7188 - acc: 0.704 - ETA: 3:31 - loss: 0.7182 - acc: 0.704 - ETA: 3:30 - loss: 0.7181 - acc: 0.704 - ETA: 3:30 - loss: 0.7173 - acc: 0.704 - ETA: 3:29 - loss: 0.7174 - acc: 0.704 - ETA: 3:29 - loss: 0.7174 - acc: 0.704 - ETA: 3:28 - loss: 0.7162 - acc: 0.704 - ETA: 3:28 - loss: 0.7160 - acc: 0.704 - ETA: 3:27 - loss: 0.7167 - acc: 0.704 - ETA: 3:27 - loss: 0.7167 - acc: 0.704 - ETA: 3:26 - loss: 0.7171 - acc: 0.704 - ETA: 3:26 - loss: 0.7156 - acc: 0.705 - ETA: 3:25 - loss: 0.7159 - acc: 0.704 - ETA: 3:25 - loss: 0.7163 - acc: 0.705 - ETA: 3:24 - loss: 0.7169 - acc: 0.704 - ETA: 3:23 - loss: 0.7158 - acc: 0.704 - ETA: 3:23 - loss: 0.7158 - acc: 0.704 - ETA: 3:23 - loss: 0.7168 - acc: 0.704 - ETA: 3:22 - loss: 0.7173 - acc: 0.704 - ETA: 3:21 - loss: 0.7175 - acc: 0.704 - ETA: 3:21 - loss: 0.7170 - acc: 0.704 - ETA: 3:20 - loss: 0.7175 - acc: 0.703 - ETA: 3:20 - loss: 0.7176 - acc: 0.703 - ETA: 3:19 - loss: 0.7179 - acc: 0.703 - ETA: 3:19 - loss: 0.7172 - acc: 0.703 - ETA: 3:18 - loss: 0.7175 - acc: 0.703 - ETA: 3:18 - loss: 0.7166 - acc: 0.703 - ETA: 3:17 - loss: 0.7150 - acc: 0.704 - ETA: 3:17 - loss: 0.7151 - acc: 0.704 - ETA: 3:16 - loss: 0.7155 - acc: 0.705 - ETA: 3:16 - loss: 0.7158 - acc: 0.704 - ETA: 3:15 - loss: 0.7161 - acc: 0.704 - ETA: 3:15 - loss: 0.7162 - acc: 0.704 - ETA: 3:14 - loss: 0.7176 - acc: 0.704 - ETA: 3:14 - loss: 0.7179 - acc: 0.704 - ETA: 3:13 - loss: 0.7174 - acc: 0.704 - ETA: 3:13 - loss: 0.7168 - acc: 0.704 - ETA: 3:12 - loss: 0.7159 - acc: 0.704 - ETA: 3:12 - loss: 0.7161 - acc: 0.704 - ETA: 3:11 - loss: 0.7159 - acc: 0.704 - ETA: 3:11 - loss: 0.7161 - acc: 0.704 - ETA: 3:10 - loss: 0.7163 - acc: 0.703 - ETA: 3:10 - loss: 0.7167 - acc: 0.703 - ETA: 3:09 - loss: 0.7153 - acc: 0.704 - ETA: 3:09 - loss: 0.7153 - acc: 0.704 - ETA: 3:08 - loss: 0.7162 - acc: 0.704 - ETA: 3:08 - loss: 0.7165 - acc: 0.703 - ETA: 3:07 - loss: 0.7173 - acc: 0.703 - ETA: 3:07 - loss: 0.7172 - acc: 0.703 - ETA: 3:06 - loss: 0.7173 - acc: 0.703 - ETA: 3:06 - loss: 0.7166 - acc: 0.703 - ETA: 3:05 - loss: 0.7173 - acc: 0.703 - ETA: 3:05 - loss: 0.7171 - acc: 0.703 - ETA: 3:04 - loss: 0.7177 - acc: 0.703 - ETA: 3:04 - loss: 0.7177 - acc: 0.703 - ETA: 3:03 - loss: 0.7175 - acc: 0.703 - ETA: 3:03 - loss: 0.7179 - acc: 0.702 - ETA: 3:02 - loss: 0.7183 - acc: 0.703 - ETA: 3:02 - loss: 0.7178 - acc: 0.703 - ETA: 3:01 - loss: 0.7182 - acc: 0.702 - ETA: 3:01 - loss: 0.7183 - acc: 0.702 - ETA: 3:00 - loss: 0.7180 - acc: 0.702 - ETA: 3:00 - loss: 0.7181 - acc: 0.702 - ETA: 2:59 - loss: 0.7187 - acc: 0.702 - ETA: 2:59 - loss: 0.7188 - acc: 0.702 - ETA: 2:58 - loss: 0.7193 - acc: 0.702 - ETA: 2:58 - loss: 0.7185 - acc: 0.702 - ETA: 2:57 - loss: 0.7186 - acc: 0.702 - ETA: 2:57 - loss: 0.7183 - acc: 0.702 - ETA: 2:56 - loss: 0.7175 - acc: 0.703 - ETA: 2:56 - loss: 0.7176 - acc: 0.703 - ETA: 2:55 - loss: 0.7180 - acc: 0.703 - ETA: 2:55 - loss: 0.7187 - acc: 0.702 - ETA: 2:54 - loss: 0.7188 - acc: 0.702 - ETA: 2:54 - loss: 0.7190 - acc: 0.702 - ETA: 2:53 - loss: 0.7190 - acc: 0.702 - ETA: 2:53 - loss: 0.7187 - acc: 0.702 - ETA: 2:52 - loss: 0.7184 - acc: 0.703 - ETA: 2:52 - loss: 0.7184 - acc: 0.703 - ETA: 2:51 - loss: 0.7187 - acc: 0.703 - ETA: 2:51 - loss: 0.7190 - acc: 0.703 - ETA: 2:50 - loss: 0.7189 - acc: 0.703 - ETA: 2:50 - loss: 0.7188 - acc: 0.703 - ETA: 2:49 - loss: 0.7193 - acc: 0.702 - ETA: 2:49 - loss: 0.7188 - acc: 0.703 - ETA: 2:48 - loss: 0.7196 - acc: 0.702 - ETA: 2:48 - loss: 0.7194 - acc: 0.702 - ETA: 2:47 - loss: 0.7193 - acc: 0.702 - ETA: 2:47 - loss: 0.7198 - acc: 0.702 - ETA: 2:46 - loss: 0.7201 - acc: 0.702 - ETA: 2:46 - loss: 0.7206 - acc: 0.702 - ETA: 2:46 - loss: 0.7205 - acc: 0.702 - ETA: 2:45 - loss: 0.7203 - acc: 0.702 - ETA: 2:45 - loss: 0.7198 - acc: 0.702 - ETA: 2:44 - loss: 0.7198 - acc: 0.702 - ETA: 2:44 - loss: 0.7204 - acc: 0.701 - ETA: 2:43 - loss: 0.7194 - acc: 0.702 - ETA: 2:43 - loss: 0.7197 - acc: 0.701 - ETA: 2:42 - loss: 0.7196 - acc: 0.701 - ETA: 2:42 - loss: 0.7199 - acc: 0.701 - ETA: 2:41 - loss: 0.7199 - acc: 0.701 - ETA: 2:41 - loss: 0.7195 - acc: 0.701 - ETA: 2:40 - loss: 0.7200 - acc: 0.701 - ETA: 2:40 - loss: 0.7201 - acc: 0.701 - ETA: 2:39 - loss: 0.7203 - acc: 0.701 - ETA: 2:39 - loss: 0.7205 - acc: 0.701 - ETA: 2:38 - loss: 0.7207 - acc: 0.700 - ETA: 2:38 - loss: 0.7209 - acc: 0.700 - ETA: 2:37 - loss: 0.7210 - acc: 0.700 - ETA: 2:37 - loss: 0.7209 - acc: 0.700 - ETA: 2:36 - loss: 0.7209 - acc: 0.700 - ETA: 2:36 - loss: 0.7211 - acc: 0.700 - ETA: 2:35 - loss: 0.7215 - acc: 0.700 - ETA: 2:35 - loss: 0.7217 - acc: 0.700 - ETA: 2:34 - loss: 0.7217 - acc: 0.700 - ETA: 2:34 - loss: 0.7221 - acc: 0.700 - ETA: 2:33 - loss: 0.7217 - acc: 0.700 - ETA: 2:33 - loss: 0.7215 - acc: 0.700 - ETA: 2:32 - loss: 0.7215 - acc: 0.700 - ETA: 2:32 - loss: 0.7218 - acc: 0.700 - ETA: 2:31 - loss: 0.7218 - acc: 0.700 - ETA: 2:31 - loss: 0.7219 - acc: 0.700 - ETA: 2:30 - loss: 0.7219 - acc: 0.700 - ETA: 2:30 - loss: 0.7221 - acc: 0.700 - ETA: 2:30 - loss: 0.7221 - acc: 0.700 - ETA: 2:29 - loss: 0.7219 - acc: 0.700 - ETA: 2:29 - loss: 0.7223 - acc: 0.700 - ETA: 2:28 - loss: 0.7223 - acc: 0.700 - ETA: 2:28 - loss: 0.7225 - acc: 0.699 - ETA: 2:27 - loss: 0.7229 - acc: 0.699 - ETA: 2:27 - loss: 0.7229 - acc: 0.699 - ETA: 2:26 - loss: 0.7233 - acc: 0.699 - ETA: 2:26 - loss: 0.7231 - acc: 0.699 - ETA: 2:25 - loss: 0.7233 - acc: 0.699 - ETA: 2:25 - loss: 0.7237 - acc: 0.699 - ETA: 2:24 - loss: 0.7241 - acc: 0.699 - ETA: 2:24 - loss: 0.7243 - acc: 0.699 - ETA: 2:23 - loss: 0.7249 - acc: 0.698 - ETA: 2:23 - loss: 0.7249 - acc: 0.698 - ETA: 2:22 - loss: 0.7243 - acc: 0.698 - ETA: 2:22 - loss: 0.7246 - acc: 0.698 - ETA: 2:21 - loss: 0.7246 - acc: 0.698 - ETA: 2:21 - loss: 0.7246 - acc: 0.699 - ETA: 2:20 - loss: 0.7248 - acc: 0.698 - ETA: 2:20 - loss: 0.7249 - acc: 0.698 - ETA: 2:19 - loss: 0.7247 - acc: 0.699 - ETA: 2:19 - loss: 0.7247 - acc: 0.698 - ETA: 2:18 - loss: 0.7249 - acc: 0.698 - ETA: 2:18 - loss: 0.7252 - acc: 0.698 - ETA: 2:17 - loss: 0.7254 - acc: 0.698 - ETA: 2:17 - loss: 0.7254 - acc: 0.6983104960/124848 [========================>.....] - ETA: 2:16 - loss: 0.7251 - acc: 0.698 - ETA: 2:16 - loss: 0.7251 - acc: 0.698 - ETA: 2:15 - loss: 0.7251 - acc: 0.698 - ETA: 2:15 - loss: 0.7250 - acc: 0.698 - ETA: 2:14 - loss: 0.7250 - acc: 0.698 - ETA: 2:14 - loss: 0.7251 - acc: 0.697 - ETA: 2:13 - loss: 0.7250 - acc: 0.697 - ETA: 2:13 - loss: 0.7252 - acc: 0.697 - ETA: 2:12 - loss: 0.7256 - acc: 0.697 - ETA: 2:12 - loss: 0.7259 - acc: 0.697 - ETA: 2:12 - loss: 0.7260 - acc: 0.697 - ETA: 2:11 - loss: 0.7260 - acc: 0.697 - ETA: 2:11 - loss: 0.7259 - acc: 0.697 - ETA: 2:10 - loss: 0.7263 - acc: 0.697 - ETA: 2:10 - loss: 0.7264 - acc: 0.697 - ETA: 2:09 - loss: 0.7268 - acc: 0.697 - ETA: 2:09 - loss: 0.7270 - acc: 0.697 - ETA: 2:08 - loss: 0.7271 - acc: 0.697 - ETA: 2:08 - loss: 0.7270 - acc: 0.697 - ETA: 2:07 - loss: 0.7274 - acc: 0.697 - ETA: 2:07 - loss: 0.7272 - acc: 0.697 - ETA: 2:06 - loss: 0.7274 - acc: 0.697 - ETA: 2:06 - loss: 0.7273 - acc: 0.697 - ETA: 2:05 - loss: 0.7271 - acc: 0.697 - ETA: 2:05 - loss: 0.7273 - acc: 0.697 - ETA: 2:04 - loss: 0.7273 - acc: 0.697 - ETA: 2:04 - loss: 0.7275 - acc: 0.697 - ETA: 2:03 - loss: 0.7275 - acc: 0.697 - ETA: 2:03 - loss: 0.7273 - acc: 0.697 - ETA: 2:02 - loss: 0.7271 - acc: 0.697 - ETA: 2:02 - loss: 0.7271 - acc: 0.697 - ETA: 2:01 - loss: 0.7271 - acc: 0.697 - ETA: 2:01 - loss: 0.7269 - acc: 0.697 - ETA: 2:00 - loss: 0.7269 - acc: 0.697 - ETA: 2:00 - loss: 0.7270 - acc: 0.697 - ETA: 1:59 - loss: 0.7274 - acc: 0.697 - ETA: 1:59 - loss: 0.7279 - acc: 0.697 - ETA: 1:58 - loss: 0.7281 - acc: 0.697 - ETA: 1:58 - loss: 0.7282 - acc: 0.697 - ETA: 1:57 - loss: 0.7287 - acc: 0.696 - ETA: 1:57 - loss: 0.7286 - acc: 0.697 - ETA: 1:57 - loss: 0.7289 - acc: 0.697 - ETA: 1:56 - loss: 0.7291 - acc: 0.696 - ETA: 1:56 - loss: 0.7291 - acc: 0.697 - ETA: 1:55 - loss: 0.7294 - acc: 0.696 - ETA: 1:55 - loss: 0.7294 - acc: 0.696 - ETA: 1:54 - loss: 0.7294 - acc: 0.696 - ETA: 1:54 - loss: 0.7298 - acc: 0.696 - ETA: 1:53 - loss: 0.7300 - acc: 0.696 - ETA: 1:53 - loss: 0.7302 - acc: 0.696 - ETA: 1:52 - loss: 0.7302 - acc: 0.696 - ETA: 1:52 - loss: 0.7301 - acc: 0.696 - ETA: 1:51 - loss: 0.7305 - acc: 0.696 - ETA: 1:51 - loss: 0.7305 - acc: 0.696 - ETA: 1:50 - loss: 0.7308 - acc: 0.696 - ETA: 1:50 - loss: 0.7307 - acc: 0.696 - ETA: 1:49 - loss: 0.7305 - acc: 0.696 - ETA: 1:49 - loss: 0.7303 - acc: 0.696 - ETA: 1:48 - loss: 0.7303 - acc: 0.696 - ETA: 1:48 - loss: 0.7305 - acc: 0.696 - ETA: 1:47 - loss: 0.7305 - acc: 0.696 - ETA: 1:47 - loss: 0.7306 - acc: 0.696 - ETA: 1:46 - loss: 0.7308 - acc: 0.696 - ETA: 1:46 - loss: 0.7307 - acc: 0.696 - ETA: 1:45 - loss: 0.7307 - acc: 0.696 - ETA: 1:45 - loss: 0.7305 - acc: 0.696 - ETA: 1:44 - loss: 0.7304 - acc: 0.696 - ETA: 1:44 - loss: 0.7302 - acc: 0.696 - ETA: 1:43 - loss: 0.7301 - acc: 0.696 - ETA: 1:43 - loss: 0.7300 - acc: 0.696 - ETA: 1:43 - loss: 0.7300 - acc: 0.696 - ETA: 1:42 - loss: 0.7300 - acc: 0.696 - ETA: 1:42 - loss: 0.7300 - acc: 0.697 - ETA: 1:41 - loss: 0.7302 - acc: 0.696 - ETA: 1:41 - loss: 0.7304 - acc: 0.696 - ETA: 1:40 - loss: 0.7307 - acc: 0.696 - ETA: 1:40 - loss: 0.7305 - acc: 0.696 - ETA: 1:39 - loss: 0.7304 - acc: 0.696 - ETA: 1:39 - loss: 0.7304 - acc: 0.696 - ETA: 1:38 - loss: 0.7304 - acc: 0.696 - ETA: 1:38 - loss: 0.7304 - acc: 0.696 - ETA: 1:37 - loss: 0.7305 - acc: 0.696 - ETA: 1:37 - loss: 0.7308 - acc: 0.696 - ETA: 1:36 - loss: 0.7304 - acc: 0.696 - ETA: 1:36 - loss: 0.7305 - acc: 0.696 - ETA: 1:35 - loss: 0.7302 - acc: 0.696 - ETA: 1:35 - loss: 0.7301 - acc: 0.696 - ETA: 1:34 - loss: 0.7303 - acc: 0.696 - ETA: 1:34 - loss: 0.7303 - acc: 0.696 - ETA: 1:33 - loss: 0.7303 - acc: 0.696 - ETA: 1:33 - loss: 0.7301 - acc: 0.696 - ETA: 1:32 - loss: 0.7305 - acc: 0.696 - ETA: 1:32 - loss: 0.7304 - acc: 0.696 - ETA: 1:31 - loss: 0.7306 - acc: 0.696 - ETA: 1:31 - loss: 0.7310 - acc: 0.696 - ETA: 1:30 - loss: 0.7309 - acc: 0.696 - ETA: 1:30 - loss: 0.7309 - acc: 0.696 - ETA: 1:29 - loss: 0.7310 - acc: 0.696 - ETA: 1:29 - loss: 0.7311 - acc: 0.696 - ETA: 1:28 - loss: 0.7313 - acc: 0.696 - ETA: 1:28 - loss: 0.7312 - acc: 0.696 - ETA: 1:27 - loss: 0.7311 - acc: 0.696 - ETA: 1:27 - loss: 0.7313 - acc: 0.696 - ETA: 1:26 - loss: 0.7313 - acc: 0.696 - ETA: 1:26 - loss: 0.7311 - acc: 0.696 - ETA: 1:26 - loss: 0.7310 - acc: 0.696 - ETA: 1:25 - loss: 0.7311 - acc: 0.696 - ETA: 1:25 - loss: 0.7311 - acc: 0.696 - ETA: 1:24 - loss: 0.7312 - acc: 0.696 - ETA: 1:24 - loss: 0.7313 - acc: 0.696 - ETA: 1:23 - loss: 0.7310 - acc: 0.696 - ETA: 1:23 - loss: 0.7312 - acc: 0.696 - ETA: 1:22 - loss: 0.7312 - acc: 0.696 - ETA: 1:22 - loss: 0.7311 - acc: 0.696 - ETA: 1:21 - loss: 0.7312 - acc: 0.696 - ETA: 1:21 - loss: 0.7312 - acc: 0.696 - ETA: 1:20 - loss: 0.7313 - acc: 0.696 - ETA: 1:20 - loss: 0.7311 - acc: 0.696 - ETA: 1:19 - loss: 0.7307 - acc: 0.696 - ETA: 1:19 - loss: 0.7307 - acc: 0.696 - ETA: 1:18 - loss: 0.7309 - acc: 0.696 - ETA: 1:18 - loss: 0.7308 - acc: 0.696 - ETA: 1:17 - loss: 0.7308 - acc: 0.696 - ETA: 1:17 - loss: 0.7305 - acc: 0.696 - ETA: 1:16 - loss: 0.7306 - acc: 0.696 - ETA: 1:16 - loss: 0.7310 - acc: 0.696 - ETA: 1:15 - loss: 0.7312 - acc: 0.696 - ETA: 1:15 - loss: 0.7312 - acc: 0.696 - ETA: 1:14 - loss: 0.7313 - acc: 0.696 - ETA: 1:14 - loss: 0.7313 - acc: 0.696 - ETA: 1:13 - loss: 0.7315 - acc: 0.696 - ETA: 1:13 - loss: 0.7314 - acc: 0.696 - ETA: 1:12 - loss: 0.7315 - acc: 0.696 - ETA: 1:12 - loss: 0.7315 - acc: 0.696 - ETA: 1:11 - loss: 0.7313 - acc: 0.696 - ETA: 1:11 - loss: 0.7315 - acc: 0.696 - ETA: 1:10 - loss: 0.7316 - acc: 0.696 - ETA: 1:10 - loss: 0.7320 - acc: 0.696 - ETA: 1:10 - loss: 0.7319 - acc: 0.696 - ETA: 1:09 - loss: 0.7321 - acc: 0.696 - ETA: 1:09 - loss: 0.7320 - acc: 0.696 - ETA: 1:08 - loss: 0.7321 - acc: 0.696 - ETA: 1:08 - loss: 0.7322 - acc: 0.696 - ETA: 1:07 - loss: 0.7321 - acc: 0.696 - ETA: 1:07 - loss: 0.7321 - acc: 0.696 - ETA: 1:06 - loss: 0.7321 - acc: 0.696 - ETA: 1:06 - loss: 0.7322 - acc: 0.696 - ETA: 1:05 - loss: 0.7323 - acc: 0.696 - ETA: 1:05 - loss: 0.7323 - acc: 0.696 - ETA: 1:04 - loss: 0.7326 - acc: 0.696 - ETA: 1:04 - loss: 0.7326 - acc: 0.696 - ETA: 1:03 - loss: 0.7324 - acc: 0.696 - ETA: 1:03 - loss: 0.7325 - acc: 0.696 - ETA: 1:02 - loss: 0.7326 - acc: 0.696 - ETA: 1:02 - loss: 0.7327 - acc: 0.696 - ETA: 1:01 - loss: 0.7328 - acc: 0.695 - ETA: 1:01 - loss: 0.7331 - acc: 0.695 - ETA: 1:00 - loss: 0.7332 - acc: 0.695 - ETA: 1:00 - loss: 0.7335 - acc: 0.695 - ETA: 59s - loss: 0.7335 - acc: 0.695 - ETA: 59s - loss: 0.7335 - acc: 0.69 - ETA: 58s - loss: 0.7333 - acc: 0.69 - ETA: 58s - loss: 0.7334 - acc: 0.69 - ETA: 57s - loss: 0.7334 - acc: 0.69 - ETA: 57s - loss: 0.7336 - acc: 0.69 - ETA: 56s - loss: 0.7335 - acc: 0.69 - ETA: 56s - loss: 0.7333 - acc: 0.69 - ETA: 55s - loss: 0.7335 - acc: 0.69 - ETA: 55s - loss: 0.7334 - acc: 0.69 - ETA: 54s - loss: 0.7334 - acc: 0.69 - ETA: 54s - loss: 0.7334 - acc: 0.69 - ETA: 54s - loss: 0.7334 - acc: 0.69 - ETA: 53s - loss: 0.7335 - acc: 0.69 - ETA: 53s - loss: 0.7337 - acc: 0.69 - ETA: 52s - loss: 0.7336 - acc: 0.69 - ETA: 52s - loss: 0.7337 - acc: 0.69 - ETA: 51s - loss: 0.7336 - acc: 0.69 - ETA: 51s - loss: 0.7339 - acc: 0.69 - ETA: 50s - loss: 0.7340 - acc: 0.69 - ETA: 50s - loss: 0.7342 - acc: 0.69 - ETA: 49s - loss: 0.7340 - acc: 0.69 - ETA: 49s - loss: 0.7340 - acc: 0.69 - ETA: 48s - loss: 0.7341 - acc: 0.69 - ETA: 48s - loss: 0.7341 - acc: 0.69 - ETA: 47s - loss: 0.7343 - acc: 0.69 - ETA: 47s - loss: 0.7344 - acc: 0.69 - ETA: 46s - loss: 0.7344 - acc: 0.69 - ETA: 46s - loss: 0.7345 - acc: 0.69 - ETA: 45s - loss: 0.7345 - acc: 0.69 - ETA: 45s - loss: 0.7346 - acc: 0.69 - ETA: 44s - loss: 0.7347 - acc: 0.69 - ETA: 44s - loss: 0.7348 - acc: 0.69 - ETA: 43s - loss: 0.7349 - acc: 0.69 - ETA: 43s - loss: 0.7350 - acc: 0.69 - ETA: 42s - loss: 0.7352 - acc: 0.69 - ETA: 42s - loss: 0.7352 - acc: 0.69 - ETA: 41s - loss: 0.7351 - acc: 0.69 - ETA: 41s - loss: 0.7351 - acc: 0.69 - ETA: 40s - loss: 0.7353 - acc: 0.69 - ETA: 40s - loss: 0.7355 - acc: 0.69 - ETA: 39s - loss: 0.7355 - acc: 0.69 - ETA: 39s - loss: 0.7356 - acc: 0.69 - ETA: 39s - loss: 0.7356 - acc: 0.69 - ETA: 38s - loss: 0.7356 - acc: 0.69 - ETA: 38s - loss: 0.7358 - acc: 0.69 - ETA: 37s - loss: 0.7359 - acc: 0.6944124848/124848 [==============================] - ETA: 37s - loss: 0.7357 - acc: 0.69 - ETA: 36s - loss: 0.7358 - acc: 0.69 - ETA: 36s - loss: 0.7358 - acc: 0.69 - ETA: 35s - loss: 0.7357 - acc: 0.69 - ETA: 35s - loss: 0.7356 - acc: 0.69 - ETA: 34s - loss: 0.7356 - acc: 0.69 - ETA: 34s - loss: 0.7357 - acc: 0.69 - ETA: 33s - loss: 0.7359 - acc: 0.69 - ETA: 33s - loss: 0.7358 - acc: 0.69 - ETA: 32s - loss: 0.7356 - acc: 0.69 - ETA: 32s - loss: 0.7357 - acc: 0.69 - ETA: 31s - loss: 0.7356 - acc: 0.69 - ETA: 31s - loss: 0.7357 - acc: 0.69 - ETA: 30s - loss: 0.7360 - acc: 0.69 - ETA: 30s - loss: 0.7359 - acc: 0.69 - ETA: 29s - loss: 0.7358 - acc: 0.69 - ETA: 29s - loss: 0.7358 - acc: 0.69 - ETA: 28s - loss: 0.7358 - acc: 0.69 - ETA: 28s - loss: 0.7360 - acc: 0.69 - ETA: 27s - loss: 0.7358 - acc: 0.69 - ETA: 27s - loss: 0.7357 - acc: 0.69 - ETA: 26s - loss: 0.7357 - acc: 0.69 - ETA: 26s - loss: 0.7356 - acc: 0.69 - ETA: 25s - loss: 0.7358 - acc: 0.69 - ETA: 25s - loss: 0.7356 - acc: 0.69 - ETA: 25s - loss: 0.7356 - acc: 0.69 - ETA: 24s - loss: 0.7357 - acc: 0.69 - ETA: 24s - loss: 0.7360 - acc: 0.69 - ETA: 23s - loss: 0.7359 - acc: 0.69 - ETA: 23s - loss: 0.7359 - acc: 0.69 - ETA: 22s - loss: 0.7359 - acc: 0.69 - ETA: 22s - loss: 0.7360 - acc: 0.69 - ETA: 21s - loss: 0.7360 - acc: 0.69 - ETA: 21s - loss: 0.7360 - acc: 0.69 - ETA: 20s - loss: 0.7362 - acc: 0.69 - ETA: 20s - loss: 0.7363 - acc: 0.69 - ETA: 19s - loss: 0.7364 - acc: 0.69 - ETA: 19s - loss: 0.7363 - acc: 0.69 - ETA: 18s - loss: 0.7363 - acc: 0.69 - ETA: 18s - loss: 0.7364 - acc: 0.69 - ETA: 17s - loss: 0.7365 - acc: 0.69 - ETA: 17s - loss: 0.7364 - acc: 0.69 - ETA: 16s - loss: 0.7365 - acc: 0.69 - ETA: 16s - loss: 0.7365 - acc: 0.69 - ETA: 15s - loss: 0.7366 - acc: 0.69 - ETA: 15s - loss: 0.7365 - acc: 0.69 - ETA: 14s - loss: 0.7364 - acc: 0.69 - ETA: 14s - loss: 0.7363 - acc: 0.69 - ETA: 13s - loss: 0.7363 - acc: 0.69 - ETA: 13s - loss: 0.7362 - acc: 0.69 - ETA: 12s - loss: 0.7366 - acc: 0.69 - ETA: 12s - loss: 0.7363 - acc: 0.69 - ETA: 11s - loss: 0.7366 - acc: 0.69 - ETA: 11s - loss: 0.7365 - acc: 0.69 - ETA: 10s - loss: 0.7363 - acc: 0.69 - ETA: 10s - loss: 0.7364 - acc: 0.69 - ETA: 10s - loss: 0.7363 - acc: 0.69 - ETA: 9s - loss: 0.7363 - acc: 0.6941 - ETA: 9s - loss: 0.7364 - acc: 0.694 - ETA: 8s - loss: 0.7365 - acc: 0.694 - ETA: 8s - loss: 0.7368 - acc: 0.694 - ETA: 7s - loss: 0.7369 - acc: 0.693 - ETA: 7s - loss: 0.7368 - acc: 0.694 - ETA: 6s - loss: 0.7367 - acc: 0.694 - ETA: 6s - loss: 0.7368 - acc: 0.694 - ETA: 5s - loss: 0.7367 - acc: 0.694 - ETA: 5s - loss: 0.7367 - acc: 0.694 - ETA: 4s - loss: 0.7367 - acc: 0.694 - ETA: 4s - loss: 0.7368 - acc: 0.694 - ETA: 3s - loss: 0.7370 - acc: 0.693 - ETA: 3s - loss: 0.7372 - acc: 0.693 - ETA: 2s - loss: 0.7372 - acc: 0.693 - ETA: 2s - loss: 0.7372 - acc: 0.693 - ETA: 1s - loss: 0.7372 - acc: 0.693 - ETA: 1s - loss: 0.7372 - acc: 0.693 - ETA: 0s - loss: 0.7373 - acc: 0.693 - ETA: 0s - loss: 0.7372 - acc: 0.693 - 258s 2ms/step - loss: 0.7371 - acc: 0.6937 - val_loss: 0.8034 - val_acc: 0.6717\n",
      "Epoch 4/6\n"
     ]
    },
    {
     "name": "stdout",
     "output_type": "stream",
     "text": [
      " 52224/124848 [===========>..................] - ETA: 4:17 - loss: 0.6431 - acc: 0.722 - ETA: 4:25 - loss: 0.6687 - acc: 0.693 - ETA: 4:14 - loss: 0.6594 - acc: 0.701 - ETA: 4:09 - loss: 0.6530 - acc: 0.702 - ETA: 4:05 - loss: 0.6416 - acc: 0.715 - ETA: 4:03 - loss: 0.6562 - acc: 0.707 - ETA: 4:02 - loss: 0.6588 - acc: 0.712 - ETA: 4:02 - loss: 0.6538 - acc: 0.717 - ETA: 4:00 - loss: 0.6512 - acc: 0.720 - ETA: 3:58 - loss: 0.6517 - acc: 0.722 - ETA: 3:57 - loss: 0.6569 - acc: 0.718 - ETA: 3:56 - loss: 0.6576 - acc: 0.719 - ETA: 3:55 - loss: 0.6516 - acc: 0.724 - ETA: 3:54 - loss: 0.6552 - acc: 0.722 - ETA: 3:53 - loss: 0.6572 - acc: 0.722 - ETA: 3:52 - loss: 0.6526 - acc: 0.723 - ETA: 3:51 - loss: 0.6542 - acc: 0.724 - ETA: 3:51 - loss: 0.6534 - acc: 0.723 - ETA: 3:50 - loss: 0.6517 - acc: 0.723 - ETA: 3:49 - loss: 0.6566 - acc: 0.721 - ETA: 3:49 - loss: 0.6558 - acc: 0.721 - ETA: 3:48 - loss: 0.6579 - acc: 0.720 - ETA: 3:47 - loss: 0.6550 - acc: 0.722 - ETA: 3:47 - loss: 0.6557 - acc: 0.722 - ETA: 3:46 - loss: 0.6554 - acc: 0.722 - ETA: 3:45 - loss: 0.6539 - acc: 0.723 - ETA: 3:45 - loss: 0.6546 - acc: 0.722 - ETA: 3:44 - loss: 0.6528 - acc: 0.723 - ETA: 3:44 - loss: 0.6574 - acc: 0.722 - ETA: 3:43 - loss: 0.6560 - acc: 0.724 - ETA: 3:42 - loss: 0.6570 - acc: 0.724 - ETA: 3:42 - loss: 0.6564 - acc: 0.724 - ETA: 3:41 - loss: 0.6545 - acc: 0.724 - ETA: 3:41 - loss: 0.6539 - acc: 0.724 - ETA: 3:40 - loss: 0.6515 - acc: 0.725 - ETA: 3:40 - loss: 0.6508 - acc: 0.726 - ETA: 3:39 - loss: 0.6517 - acc: 0.726 - ETA: 3:39 - loss: 0.6517 - acc: 0.726 - ETA: 3:38 - loss: 0.6515 - acc: 0.725 - ETA: 3:38 - loss: 0.6533 - acc: 0.724 - ETA: 3:39 - loss: 0.6519 - acc: 0.724 - ETA: 3:39 - loss: 0.6511 - acc: 0.724 - ETA: 3:38 - loss: 0.6508 - acc: 0.724 - ETA: 3:37 - loss: 0.6500 - acc: 0.724 - ETA: 3:37 - loss: 0.6502 - acc: 0.723 - ETA: 3:36 - loss: 0.6490 - acc: 0.723 - ETA: 3:36 - loss: 0.6491 - acc: 0.723 - ETA: 3:35 - loss: 0.6505 - acc: 0.722 - ETA: 3:35 - loss: 0.6512 - acc: 0.722 - ETA: 3:34 - loss: 0.6517 - acc: 0.722 - ETA: 3:33 - loss: 0.6529 - acc: 0.722 - ETA: 3:33 - loss: 0.6518 - acc: 0.723 - ETA: 3:32 - loss: 0.6523 - acc: 0.722 - ETA: 3:32 - loss: 0.6530 - acc: 0.722 - ETA: 3:31 - loss: 0.6539 - acc: 0.722 - ETA: 3:31 - loss: 0.6533 - acc: 0.722 - ETA: 3:30 - loss: 0.6520 - acc: 0.722 - ETA: 3:30 - loss: 0.6514 - acc: 0.722 - ETA: 3:29 - loss: 0.6507 - acc: 0.723 - ETA: 3:29 - loss: 0.6508 - acc: 0.723 - ETA: 3:28 - loss: 0.6523 - acc: 0.723 - ETA: 3:27 - loss: 0.6526 - acc: 0.722 - ETA: 3:27 - loss: 0.6537 - acc: 0.722 - ETA: 3:26 - loss: 0.6536 - acc: 0.722 - ETA: 3:26 - loss: 0.6529 - acc: 0.723 - ETA: 3:25 - loss: 0.6529 - acc: 0.723 - ETA: 3:25 - loss: 0.6530 - acc: 0.722 - ETA: 3:24 - loss: 0.6542 - acc: 0.722 - ETA: 3:24 - loss: 0.6550 - acc: 0.722 - ETA: 3:23 - loss: 0.6566 - acc: 0.721 - ETA: 3:23 - loss: 0.6571 - acc: 0.721 - ETA: 3:22 - loss: 0.6568 - acc: 0.721 - ETA: 3:22 - loss: 0.6567 - acc: 0.721 - ETA: 3:22 - loss: 0.6580 - acc: 0.721 - ETA: 3:21 - loss: 0.6581 - acc: 0.721 - ETA: 3:20 - loss: 0.6575 - acc: 0.722 - ETA: 3:20 - loss: 0.6575 - acc: 0.722 - ETA: 3:19 - loss: 0.6577 - acc: 0.722 - ETA: 3:19 - loss: 0.6584 - acc: 0.721 - ETA: 3:18 - loss: 0.6600 - acc: 0.720 - ETA: 3:18 - loss: 0.6594 - acc: 0.721 - ETA: 3:17 - loss: 0.6597 - acc: 0.721 - ETA: 3:17 - loss: 0.6597 - acc: 0.721 - ETA: 3:16 - loss: 0.6593 - acc: 0.721 - ETA: 3:16 - loss: 0.6601 - acc: 0.721 - ETA: 3:15 - loss: 0.6595 - acc: 0.721 - ETA: 3:15 - loss: 0.6600 - acc: 0.721 - ETA: 3:14 - loss: 0.6604 - acc: 0.720 - ETA: 3:14 - loss: 0.6600 - acc: 0.720 - ETA: 3:13 - loss: 0.6600 - acc: 0.720 - ETA: 3:13 - loss: 0.6610 - acc: 0.720 - ETA: 3:12 - loss: 0.6611 - acc: 0.720 - ETA: 3:12 - loss: 0.6611 - acc: 0.720 - ETA: 3:11 - loss: 0.6618 - acc: 0.720 - ETA: 3:11 - loss: 0.6621 - acc: 0.720 - ETA: 3:10 - loss: 0.6623 - acc: 0.720 - ETA: 3:10 - loss: 0.6629 - acc: 0.720 - ETA: 3:09 - loss: 0.6638 - acc: 0.719 - ETA: 3:09 - loss: 0.6648 - acc: 0.719 - ETA: 3:08 - loss: 0.6646 - acc: 0.719 - ETA: 3:08 - loss: 0.6649 - acc: 0.719 - ETA: 3:07 - loss: 0.6647 - acc: 0.719 - ETA: 3:07 - loss: 0.6650 - acc: 0.719 - ETA: 3:06 - loss: 0.6648 - acc: 0.719 - ETA: 3:06 - loss: 0.6651 - acc: 0.719 - ETA: 3:05 - loss: 0.6646 - acc: 0.719 - ETA: 3:05 - loss: 0.6653 - acc: 0.719 - ETA: 3:04 - loss: 0.6661 - acc: 0.719 - ETA: 3:04 - loss: 0.6659 - acc: 0.718 - ETA: 3:03 - loss: 0.6665 - acc: 0.718 - ETA: 3:03 - loss: 0.6679 - acc: 0.717 - ETA: 3:02 - loss: 0.6679 - acc: 0.717 - ETA: 3:02 - loss: 0.6682 - acc: 0.717 - ETA: 3:01 - loss: 0.6684 - acc: 0.717 - ETA: 3:01 - loss: 0.6683 - acc: 0.718 - ETA: 3:00 - loss: 0.6684 - acc: 0.718 - ETA: 3:00 - loss: 0.6687 - acc: 0.718 - ETA: 2:59 - loss: 0.6686 - acc: 0.717 - ETA: 2:59 - loss: 0.6688 - acc: 0.717 - ETA: 2:58 - loss: 0.6691 - acc: 0.717 - ETA: 2:58 - loss: 0.6695 - acc: 0.717 - ETA: 2:57 - loss: 0.6698 - acc: 0.717 - ETA: 2:57 - loss: 0.6704 - acc: 0.717 - ETA: 2:56 - loss: 0.6711 - acc: 0.717 - ETA: 2:56 - loss: 0.6718 - acc: 0.716 - ETA: 2:55 - loss: 0.6727 - acc: 0.716 - ETA: 2:55 - loss: 0.6726 - acc: 0.716 - ETA: 2:54 - loss: 0.6737 - acc: 0.716 - ETA: 2:54 - loss: 0.6735 - acc: 0.716 - ETA: 2:53 - loss: 0.6738 - acc: 0.716 - ETA: 2:53 - loss: 0.6738 - acc: 0.716 - ETA: 2:52 - loss: 0.6738 - acc: 0.716 - ETA: 2:52 - loss: 0.6744 - acc: 0.715 - ETA: 2:52 - loss: 0.6753 - acc: 0.715 - ETA: 2:51 - loss: 0.6756 - acc: 0.715 - ETA: 2:51 - loss: 0.6756 - acc: 0.715 - ETA: 2:50 - loss: 0.6755 - acc: 0.715 - ETA: 2:50 - loss: 0.6758 - acc: 0.715 - ETA: 2:49 - loss: 0.6757 - acc: 0.715 - ETA: 2:49 - loss: 0.6753 - acc: 0.715 - ETA: 2:48 - loss: 0.6757 - acc: 0.715 - ETA: 2:48 - loss: 0.6755 - acc: 0.715 - ETA: 2:47 - loss: 0.6757 - acc: 0.715 - ETA: 2:47 - loss: 0.6760 - acc: 0.715 - ETA: 2:46 - loss: 0.6759 - acc: 0.715 - ETA: 2:46 - loss: 0.6760 - acc: 0.715 - ETA: 2:45 - loss: 0.6761 - acc: 0.714 - ETA: 2:45 - loss: 0.6755 - acc: 0.715 - ETA: 2:44 - loss: 0.6761 - acc: 0.714 - ETA: 2:44 - loss: 0.6760 - acc: 0.714 - ETA: 2:43 - loss: 0.6756 - acc: 0.715 - ETA: 2:43 - loss: 0.6757 - acc: 0.715 - ETA: 2:42 - loss: 0.6756 - acc: 0.715 - ETA: 2:42 - loss: 0.6761 - acc: 0.715 - ETA: 2:41 - loss: 0.6760 - acc: 0.715 - ETA: 2:41 - loss: 0.6764 - acc: 0.715 - ETA: 2:40 - loss: 0.6769 - acc: 0.714 - ETA: 2:40 - loss: 0.6768 - acc: 0.715 - ETA: 2:39 - loss: 0.6771 - acc: 0.715 - ETA: 2:39 - loss: 0.6772 - acc: 0.715 - ETA: 2:38 - loss: 0.6772 - acc: 0.715 - ETA: 2:38 - loss: 0.6776 - acc: 0.715 - ETA: 2:37 - loss: 0.6778 - acc: 0.715 - ETA: 2:37 - loss: 0.6780 - acc: 0.715 - ETA: 2:36 - loss: 0.6784 - acc: 0.715 - ETA: 2:36 - loss: 0.6780 - acc: 0.715 - ETA: 2:35 - loss: 0.6779 - acc: 0.715 - ETA: 2:35 - loss: 0.6778 - acc: 0.715 - ETA: 2:34 - loss: 0.6778 - acc: 0.715 - ETA: 2:34 - loss: 0.6776 - acc: 0.715 - ETA: 2:33 - loss: 0.6777 - acc: 0.715 - ETA: 2:33 - loss: 0.6773 - acc: 0.715 - ETA: 2:32 - loss: 0.6774 - acc: 0.715 - ETA: 2:32 - loss: 0.6778 - acc: 0.715 - ETA: 2:31 - loss: 0.6782 - acc: 0.715 - ETA: 2:31 - loss: 0.6786 - acc: 0.714 - ETA: 2:30 - loss: 0.6784 - acc: 0.715 - ETA: 2:30 - loss: 0.6784 - acc: 0.715 - ETA: 2:29 - loss: 0.6780 - acc: 0.715 - ETA: 2:29 - loss: 0.6781 - acc: 0.715 - ETA: 2:28 - loss: 0.6782 - acc: 0.715 - ETA: 2:28 - loss: 0.6784 - acc: 0.715 - ETA: 2:27 - loss: 0.6785 - acc: 0.715 - ETA: 2:27 - loss: 0.6785 - acc: 0.715 - ETA: 2:26 - loss: 0.6788 - acc: 0.715 - ETA: 2:26 - loss: 0.6787 - acc: 0.715 - ETA: 2:26 - loss: 0.6791 - acc: 0.715 - ETA: 2:25 - loss: 0.6789 - acc: 0.715 - ETA: 2:25 - loss: 0.6794 - acc: 0.714 - ETA: 2:24 - loss: 0.6795 - acc: 0.714 - ETA: 2:24 - loss: 0.6797 - acc: 0.714 - ETA: 2:23 - loss: 0.6795 - acc: 0.714 - ETA: 2:23 - loss: 0.6794 - acc: 0.714 - ETA: 2:22 - loss: 0.6796 - acc: 0.714 - ETA: 2:22 - loss: 0.6799 - acc: 0.714 - ETA: 2:21 - loss: 0.6796 - acc: 0.714 - ETA: 2:21 - loss: 0.6797 - acc: 0.714 - ETA: 2:20 - loss: 0.6799 - acc: 0.714 - ETA: 2:20 - loss: 0.6800 - acc: 0.714 - ETA: 2:19 - loss: 0.6800 - acc: 0.714 - ETA: 2:19 - loss: 0.6800 - acc: 0.714 - ETA: 2:18 - loss: 0.6804 - acc: 0.714 - ETA: 2:18 - loss: 0.6804 - acc: 0.714 - ETA: 2:17 - loss: 0.6803 - acc: 0.7141104960/124848 [========================>.....] - ETA: 2:17 - loss: 0.6805 - acc: 0.714 - ETA: 2:16 - loss: 0.6802 - acc: 0.714 - ETA: 2:16 - loss: 0.6806 - acc: 0.714 - ETA: 2:15 - loss: 0.6810 - acc: 0.714 - ETA: 2:15 - loss: 0.6812 - acc: 0.713 - ETA: 2:14 - loss: 0.6813 - acc: 0.713 - ETA: 2:14 - loss: 0.6812 - acc: 0.714 - ETA: 2:13 - loss: 0.6815 - acc: 0.713 - ETA: 2:13 - loss: 0.6814 - acc: 0.713 - ETA: 2:12 - loss: 0.6813 - acc: 0.713 - ETA: 2:12 - loss: 0.6814 - acc: 0.713 - ETA: 2:11 - loss: 0.6818 - acc: 0.713 - ETA: 2:11 - loss: 0.6818 - acc: 0.713 - ETA: 2:10 - loss: 0.6817 - acc: 0.713 - ETA: 2:10 - loss: 0.6817 - acc: 0.713 - ETA: 2:09 - loss: 0.6817 - acc: 0.713 - ETA: 2:09 - loss: 0.6816 - acc: 0.713 - ETA: 2:08 - loss: 0.6818 - acc: 0.713 - ETA: 2:08 - loss: 0.6819 - acc: 0.713 - ETA: 2:07 - loss: 0.6820 - acc: 0.713 - ETA: 2:07 - loss: 0.6824 - acc: 0.713 - ETA: 2:06 - loss: 0.6822 - acc: 0.713 - ETA: 2:06 - loss: 0.6825 - acc: 0.713 - ETA: 2:05 - loss: 0.6822 - acc: 0.713 - ETA: 2:05 - loss: 0.6822 - acc: 0.713 - ETA: 2:05 - loss: 0.6823 - acc: 0.713 - ETA: 2:04 - loss: 0.6822 - acc: 0.713 - ETA: 2:04 - loss: 0.6820 - acc: 0.713 - ETA: 2:03 - loss: 0.6819 - acc: 0.713 - ETA: 2:03 - loss: 0.6815 - acc: 0.713 - ETA: 2:02 - loss: 0.6814 - acc: 0.713 - ETA: 2:02 - loss: 0.6815 - acc: 0.713 - ETA: 2:01 - loss: 0.6815 - acc: 0.713 - ETA: 2:01 - loss: 0.6814 - acc: 0.713 - ETA: 2:00 - loss: 0.6814 - acc: 0.713 - ETA: 2:00 - loss: 0.6818 - acc: 0.713 - ETA: 1:59 - loss: 0.6818 - acc: 0.713 - ETA: 1:59 - loss: 0.6818 - acc: 0.713 - ETA: 1:58 - loss: 0.6817 - acc: 0.713 - ETA: 1:58 - loss: 0.6817 - acc: 0.713 - ETA: 1:57 - loss: 0.6818 - acc: 0.713 - ETA: 1:57 - loss: 0.6820 - acc: 0.713 - ETA: 1:56 - loss: 0.6824 - acc: 0.713 - ETA: 1:56 - loss: 0.6824 - acc: 0.713 - ETA: 1:55 - loss: 0.6825 - acc: 0.713 - ETA: 1:55 - loss: 0.6826 - acc: 0.713 - ETA: 1:54 - loss: 0.6829 - acc: 0.713 - ETA: 1:54 - loss: 0.6830 - acc: 0.713 - ETA: 1:53 - loss: 0.6828 - acc: 0.713 - ETA: 1:53 - loss: 0.6828 - acc: 0.713 - ETA: 1:52 - loss: 0.6825 - acc: 0.713 - ETA: 1:52 - loss: 0.6829 - acc: 0.713 - ETA: 1:51 - loss: 0.6827 - acc: 0.713 - ETA: 1:51 - loss: 0.6828 - acc: 0.713 - ETA: 1:50 - loss: 0.6829 - acc: 0.713 - ETA: 1:50 - loss: 0.6827 - acc: 0.713 - ETA: 1:50 - loss: 0.6830 - acc: 0.713 - ETA: 1:49 - loss: 0.6830 - acc: 0.713 - ETA: 1:49 - loss: 0.6831 - acc: 0.713 - ETA: 1:48 - loss: 0.6834 - acc: 0.713 - ETA: 1:48 - loss: 0.6835 - acc: 0.713 - ETA: 1:47 - loss: 0.6836 - acc: 0.713 - ETA: 1:47 - loss: 0.6838 - acc: 0.713 - ETA: 1:46 - loss: 0.6837 - acc: 0.713 - ETA: 1:46 - loss: 0.6840 - acc: 0.713 - ETA: 1:45 - loss: 0.6841 - acc: 0.713 - ETA: 1:45 - loss: 0.6842 - acc: 0.713 - ETA: 1:44 - loss: 0.6845 - acc: 0.713 - ETA: 1:44 - loss: 0.6846 - acc: 0.713 - ETA: 1:43 - loss: 0.6846 - acc: 0.713 - ETA: 1:43 - loss: 0.6846 - acc: 0.713 - ETA: 1:42 - loss: 0.6843 - acc: 0.713 - ETA: 1:42 - loss: 0.6843 - acc: 0.713 - ETA: 1:41 - loss: 0.6842 - acc: 0.713 - ETA: 1:41 - loss: 0.6845 - acc: 0.713 - ETA: 1:40 - loss: 0.6843 - acc: 0.713 - ETA: 1:40 - loss: 0.6846 - acc: 0.713 - ETA: 1:39 - loss: 0.6846 - acc: 0.713 - ETA: 1:39 - loss: 0.6848 - acc: 0.713 - ETA: 1:38 - loss: 0.6849 - acc: 0.713 - ETA: 1:38 - loss: 0.6852 - acc: 0.712 - ETA: 1:37 - loss: 0.6851 - acc: 0.712 - ETA: 1:37 - loss: 0.6852 - acc: 0.712 - ETA: 1:36 - loss: 0.6853 - acc: 0.712 - ETA: 1:36 - loss: 0.6853 - acc: 0.712 - ETA: 1:36 - loss: 0.6852 - acc: 0.712 - ETA: 1:35 - loss: 0.6852 - acc: 0.712 - ETA: 1:35 - loss: 0.6853 - acc: 0.712 - ETA: 1:34 - loss: 0.6853 - acc: 0.712 - ETA: 1:34 - loss: 0.6852 - acc: 0.712 - ETA: 1:33 - loss: 0.6851 - acc: 0.712 - ETA: 1:33 - loss: 0.6851 - acc: 0.712 - ETA: 1:32 - loss: 0.6852 - acc: 0.712 - ETA: 1:32 - loss: 0.6854 - acc: 0.712 - ETA: 1:31 - loss: 0.6854 - acc: 0.712 - ETA: 1:31 - loss: 0.6853 - acc: 0.712 - ETA: 1:30 - loss: 0.6857 - acc: 0.712 - ETA: 1:30 - loss: 0.6858 - acc: 0.712 - ETA: 1:29 - loss: 0.6859 - acc: 0.712 - ETA: 1:29 - loss: 0.6859 - acc: 0.712 - ETA: 1:28 - loss: 0.6859 - acc: 0.712 - ETA: 1:28 - loss: 0.6858 - acc: 0.712 - ETA: 1:27 - loss: 0.6858 - acc: 0.712 - ETA: 1:27 - loss: 0.6860 - acc: 0.712 - ETA: 1:26 - loss: 0.6862 - acc: 0.712 - ETA: 1:26 - loss: 0.6862 - acc: 0.712 - ETA: 1:25 - loss: 0.6863 - acc: 0.712 - ETA: 1:25 - loss: 0.6861 - acc: 0.712 - ETA: 1:24 - loss: 0.6865 - acc: 0.712 - ETA: 1:24 - loss: 0.6867 - acc: 0.711 - ETA: 1:23 - loss: 0.6867 - acc: 0.711 - ETA: 1:23 - loss: 0.6866 - acc: 0.711 - ETA: 1:22 - loss: 0.6868 - acc: 0.711 - ETA: 1:22 - loss: 0.6866 - acc: 0.711 - ETA: 1:22 - loss: 0.6867 - acc: 0.711 - ETA: 1:21 - loss: 0.6866 - acc: 0.712 - ETA: 1:21 - loss: 0.6864 - acc: 0.712 - ETA: 1:20 - loss: 0.6868 - acc: 0.711 - ETA: 1:20 - loss: 0.6869 - acc: 0.711 - ETA: 1:19 - loss: 0.6870 - acc: 0.711 - ETA: 1:19 - loss: 0.6869 - acc: 0.711 - ETA: 1:18 - loss: 0.6869 - acc: 0.711 - ETA: 1:18 - loss: 0.6870 - acc: 0.711 - ETA: 1:17 - loss: 0.6873 - acc: 0.711 - ETA: 1:17 - loss: 0.6873 - acc: 0.711 - ETA: 1:16 - loss: 0.6873 - acc: 0.711 - ETA: 1:16 - loss: 0.6874 - acc: 0.711 - ETA: 1:15 - loss: 0.6874 - acc: 0.711 - ETA: 1:15 - loss: 0.6874 - acc: 0.711 - ETA: 1:14 - loss: 0.6875 - acc: 0.711 - ETA: 1:14 - loss: 0.6873 - acc: 0.711 - ETA: 1:13 - loss: 0.6873 - acc: 0.711 - ETA: 1:13 - loss: 0.6871 - acc: 0.711 - ETA: 1:12 - loss: 0.6869 - acc: 0.711 - ETA: 1:12 - loss: 0.6870 - acc: 0.711 - ETA: 1:11 - loss: 0.6871 - acc: 0.711 - ETA: 1:11 - loss: 0.6870 - acc: 0.711 - ETA: 1:11 - loss: 0.6869 - acc: 0.711 - ETA: 1:10 - loss: 0.6872 - acc: 0.711 - ETA: 1:10 - loss: 0.6874 - acc: 0.711 - ETA: 1:09 - loss: 0.6874 - acc: 0.711 - ETA: 1:09 - loss: 0.6875 - acc: 0.711 - ETA: 1:08 - loss: 0.6875 - acc: 0.711 - ETA: 1:08 - loss: 0.6875 - acc: 0.711 - ETA: 1:07 - loss: 0.6876 - acc: 0.710 - ETA: 1:07 - loss: 0.6880 - acc: 0.710 - ETA: 1:06 - loss: 0.6882 - acc: 0.710 - ETA: 1:06 - loss: 0.6882 - acc: 0.710 - ETA: 1:05 - loss: 0.6882 - acc: 0.710 - ETA: 1:05 - loss: 0.6885 - acc: 0.710 - ETA: 1:04 - loss: 0.6889 - acc: 0.710 - ETA: 1:04 - loss: 0.6889 - acc: 0.710 - ETA: 1:03 - loss: 0.6888 - acc: 0.710 - ETA: 1:03 - loss: 0.6888 - acc: 0.710 - ETA: 1:02 - loss: 0.6890 - acc: 0.710 - ETA: 1:02 - loss: 0.6889 - acc: 0.710 - ETA: 1:01 - loss: 0.6891 - acc: 0.710 - ETA: 1:01 - loss: 0.6892 - acc: 0.710 - ETA: 1:00 - loss: 0.6892 - acc: 0.710 - ETA: 1:00 - loss: 0.6891 - acc: 0.710 - ETA: 59s - loss: 0.6892 - acc: 0.710 - ETA: 59s - loss: 0.6894 - acc: 0.71 - ETA: 58s - loss: 0.6893 - acc: 0.71 - ETA: 58s - loss: 0.6894 - acc: 0.71 - ETA: 58s - loss: 0.6894 - acc: 0.71 - ETA: 57s - loss: 0.6895 - acc: 0.71 - ETA: 57s - loss: 0.6894 - acc: 0.71 - ETA: 56s - loss: 0.6897 - acc: 0.71 - ETA: 56s - loss: 0.6897 - acc: 0.71 - ETA: 55s - loss: 0.6899 - acc: 0.70 - ETA: 55s - loss: 0.6897 - acc: 0.71 - ETA: 54s - loss: 0.6898 - acc: 0.71 - ETA: 54s - loss: 0.6897 - acc: 0.71 - ETA: 53s - loss: 0.6897 - acc: 0.71 - ETA: 53s - loss: 0.6897 - acc: 0.70 - ETA: 52s - loss: 0.6899 - acc: 0.70 - ETA: 52s - loss: 0.6902 - acc: 0.70 - ETA: 51s - loss: 0.6904 - acc: 0.70 - ETA: 51s - loss: 0.6902 - acc: 0.70 - ETA: 50s - loss: 0.6902 - acc: 0.70 - ETA: 50s - loss: 0.6901 - acc: 0.70 - ETA: 49s - loss: 0.6900 - acc: 0.70 - ETA: 49s - loss: 0.6901 - acc: 0.70 - ETA: 48s - loss: 0.6900 - acc: 0.71 - ETA: 48s - loss: 0.6900 - acc: 0.70 - ETA: 47s - loss: 0.6902 - acc: 0.70 - ETA: 47s - loss: 0.6904 - acc: 0.70 - ETA: 46s - loss: 0.6905 - acc: 0.70 - ETA: 46s - loss: 0.6905 - acc: 0.70 - ETA: 45s - loss: 0.6904 - acc: 0.70 - ETA: 45s - loss: 0.6903 - acc: 0.70 - ETA: 44s - loss: 0.6904 - acc: 0.70 - ETA: 44s - loss: 0.6903 - acc: 0.70 - ETA: 43s - loss: 0.6904 - acc: 0.70 - ETA: 43s - loss: 0.6904 - acc: 0.70 - ETA: 42s - loss: 0.6906 - acc: 0.70 - ETA: 42s - loss: 0.6906 - acc: 0.70 - ETA: 42s - loss: 0.6907 - acc: 0.70 - ETA: 41s - loss: 0.6907 - acc: 0.71 - ETA: 41s - loss: 0.6909 - acc: 0.70 - ETA: 40s - loss: 0.6909 - acc: 0.70 - ETA: 40s - loss: 0.6907 - acc: 0.70 - ETA: 39s - loss: 0.6905 - acc: 0.71 - ETA: 39s - loss: 0.6905 - acc: 0.71 - ETA: 38s - loss: 0.6907 - acc: 0.71 - ETA: 38s - loss: 0.6906 - acc: 0.7101"
     ]
    },
    {
     "name": "stdout",
     "output_type": "stream",
     "text": [
      "124848/124848 [==============================] - ETA: 37s - loss: 0.6907 - acc: 0.70 - ETA: 37s - loss: 0.6910 - acc: 0.70 - ETA: 36s - loss: 0.6910 - acc: 0.70 - ETA: 36s - loss: 0.6912 - acc: 0.70 - ETA: 35s - loss: 0.6912 - acc: 0.70 - ETA: 35s - loss: 0.6914 - acc: 0.70 - ETA: 34s - loss: 0.6917 - acc: 0.70 - ETA: 34s - loss: 0.6915 - acc: 0.70 - ETA: 33s - loss: 0.6915 - acc: 0.70 - ETA: 33s - loss: 0.6914 - acc: 0.70 - ETA: 32s - loss: 0.6915 - acc: 0.70 - ETA: 32s - loss: 0.6916 - acc: 0.70 - ETA: 31s - loss: 0.6918 - acc: 0.70 - ETA: 31s - loss: 0.6917 - acc: 0.70 - ETA: 30s - loss: 0.6918 - acc: 0.70 - ETA: 30s - loss: 0.6918 - acc: 0.70 - ETA: 29s - loss: 0.6919 - acc: 0.70 - ETA: 29s - loss: 0.6920 - acc: 0.70 - ETA: 28s - loss: 0.6922 - acc: 0.70 - ETA: 28s - loss: 0.6922 - acc: 0.70 - ETA: 27s - loss: 0.6924 - acc: 0.70 - ETA: 27s - loss: 0.6926 - acc: 0.70 - ETA: 26s - loss: 0.6927 - acc: 0.70 - ETA: 26s - loss: 0.6929 - acc: 0.70 - ETA: 25s - loss: 0.6930 - acc: 0.70 - ETA: 25s - loss: 0.6930 - acc: 0.70 - ETA: 24s - loss: 0.6932 - acc: 0.70 - ETA: 24s - loss: 0.6932 - acc: 0.70 - ETA: 23s - loss: 0.6932 - acc: 0.70 - ETA: 23s - loss: 0.6933 - acc: 0.70 - ETA: 22s - loss: 0.6937 - acc: 0.70 - ETA: 22s - loss: 0.6938 - acc: 0.70 - ETA: 21s - loss: 0.6939 - acc: 0.70 - ETA: 21s - loss: 0.6940 - acc: 0.70 - ETA: 20s - loss: 0.6939 - acc: 0.70 - ETA: 20s - loss: 0.6939 - acc: 0.70 - ETA: 19s - loss: 0.6938 - acc: 0.70 - ETA: 19s - loss: 0.6938 - acc: 0.70 - ETA: 18s - loss: 0.6939 - acc: 0.70 - ETA: 18s - loss: 0.6939 - acc: 0.70 - ETA: 17s - loss: 0.6937 - acc: 0.70 - ETA: 17s - loss: 0.6939 - acc: 0.70 - ETA: 16s - loss: 0.6941 - acc: 0.70 - ETA: 16s - loss: 0.6939 - acc: 0.70 - ETA: 16s - loss: 0.6940 - acc: 0.70 - ETA: 15s - loss: 0.6940 - acc: 0.70 - ETA: 15s - loss: 0.6940 - acc: 0.70 - ETA: 14s - loss: 0.6941 - acc: 0.70 - ETA: 14s - loss: 0.6942 - acc: 0.70 - ETA: 13s - loss: 0.6943 - acc: 0.70 - ETA: 13s - loss: 0.6944 - acc: 0.70 - ETA: 12s - loss: 0.6947 - acc: 0.70 - ETA: 12s - loss: 0.6945 - acc: 0.70 - ETA: 11s - loss: 0.6947 - acc: 0.70 - ETA: 11s - loss: 0.6947 - acc: 0.70 - ETA: 10s - loss: 0.6947 - acc: 0.70 - ETA: 10s - loss: 0.6949 - acc: 0.70 - ETA: 9s - loss: 0.6949 - acc: 0.7080 - ETA: 9s - loss: 0.6950 - acc: 0.707 - ETA: 8s - loss: 0.6951 - acc: 0.707 - ETA: 8s - loss: 0.6953 - acc: 0.707 - ETA: 7s - loss: 0.6953 - acc: 0.707 - ETA: 7s - loss: 0.6954 - acc: 0.707 - ETA: 6s - loss: 0.6954 - acc: 0.707 - ETA: 6s - loss: 0.6954 - acc: 0.707 - ETA: 5s - loss: 0.6955 - acc: 0.707 - ETA: 5s - loss: 0.6955 - acc: 0.707 - ETA: 4s - loss: 0.6956 - acc: 0.707 - ETA: 4s - loss: 0.6957 - acc: 0.707 - ETA: 3s - loss: 0.6955 - acc: 0.707 - ETA: 3s - loss: 0.6957 - acc: 0.707 - ETA: 2s - loss: 0.6959 - acc: 0.707 - ETA: 2s - loss: 0.6961 - acc: 0.707 - ETA: 1s - loss: 0.6961 - acc: 0.707 - ETA: 1s - loss: 0.6960 - acc: 0.707 - ETA: 0s - loss: 0.6959 - acc: 0.707 - ETA: 0s - loss: 0.6962 - acc: 0.707 - 261s 2ms/step - loss: 0.6961 - acc: 0.7075 - val_loss: 0.8157 - val_acc: 0.6706\n",
      "Epoch 5/6\n"
     ]
    },
    {
     "name": "stdout",
     "output_type": "stream",
     "text": [
      " 52224/124848 [===========>..................] - ETA: 3:51 - loss: 0.6711 - acc: 0.730 - ETA: 3:53 - loss: 0.6505 - acc: 0.734 - ETA: 3:51 - loss: 0.6180 - acc: 0.751 - ETA: 3:51 - loss: 0.6147 - acc: 0.754 - ETA: 3:51 - loss: 0.6028 - acc: 0.759 - ETA: 3:51 - loss: 0.6032 - acc: 0.758 - ETA: 3:50 - loss: 0.6139 - acc: 0.748 - ETA: 3:51 - loss: 0.6171 - acc: 0.744 - ETA: 3:50 - loss: 0.6200 - acc: 0.740 - ETA: 3:49 - loss: 0.6180 - acc: 0.741 - ETA: 3:49 - loss: 0.6196 - acc: 0.742 - ETA: 3:49 - loss: 0.6278 - acc: 0.738 - ETA: 3:48 - loss: 0.6216 - acc: 0.741 - ETA: 3:47 - loss: 0.6215 - acc: 0.742 - ETA: 3:47 - loss: 0.6240 - acc: 0.741 - ETA: 3:46 - loss: 0.6254 - acc: 0.741 - ETA: 3:46 - loss: 0.6245 - acc: 0.742 - ETA: 3:45 - loss: 0.6258 - acc: 0.739 - ETA: 3:45 - loss: 0.6282 - acc: 0.737 - ETA: 3:45 - loss: 0.6266 - acc: 0.737 - ETA: 3:44 - loss: 0.6267 - acc: 0.737 - ETA: 3:44 - loss: 0.6278 - acc: 0.736 - ETA: 3:43 - loss: 0.6292 - acc: 0.737 - ETA: 3:43 - loss: 0.6309 - acc: 0.736 - ETA: 3:42 - loss: 0.6317 - acc: 0.736 - ETA: 3:42 - loss: 0.6328 - acc: 0.736 - ETA: 3:41 - loss: 0.6337 - acc: 0.735 - ETA: 3:41 - loss: 0.6370 - acc: 0.734 - ETA: 3:40 - loss: 0.6356 - acc: 0.734 - ETA: 3:40 - loss: 0.6368 - acc: 0.734 - ETA: 3:40 - loss: 0.6367 - acc: 0.734 - ETA: 3:39 - loss: 0.6373 - acc: 0.735 - ETA: 3:39 - loss: 0.6375 - acc: 0.734 - ETA: 3:38 - loss: 0.6392 - acc: 0.734 - ETA: 3:37 - loss: 0.6380 - acc: 0.735 - ETA: 3:37 - loss: 0.6408 - acc: 0.733 - ETA: 3:36 - loss: 0.6427 - acc: 0.733 - ETA: 3:36 - loss: 0.6448 - acc: 0.732 - ETA: 3:35 - loss: 0.6475 - acc: 0.731 - ETA: 3:35 - loss: 0.6475 - acc: 0.731 - ETA: 3:34 - loss: 0.6469 - acc: 0.731 - ETA: 3:34 - loss: 0.6468 - acc: 0.731 - ETA: 3:33 - loss: 0.6479 - acc: 0.730 - ETA: 3:33 - loss: 0.6465 - acc: 0.731 - ETA: 3:33 - loss: 0.6454 - acc: 0.732 - ETA: 3:32 - loss: 0.6481 - acc: 0.731 - ETA: 3:32 - loss: 0.6471 - acc: 0.730 - ETA: 3:31 - loss: 0.6466 - acc: 0.731 - ETA: 3:31 - loss: 0.6462 - acc: 0.731 - ETA: 3:30 - loss: 0.6472 - acc: 0.730 - ETA: 3:30 - loss: 0.6474 - acc: 0.730 - ETA: 3:29 - loss: 0.6478 - acc: 0.730 - ETA: 3:29 - loss: 0.6469 - acc: 0.730 - ETA: 3:28 - loss: 0.6468 - acc: 0.730 - ETA: 3:28 - loss: 0.6450 - acc: 0.730 - ETA: 3:27 - loss: 0.6442 - acc: 0.730 - ETA: 3:27 - loss: 0.6436 - acc: 0.730 - ETA: 3:26 - loss: 0.6435 - acc: 0.730 - ETA: 3:26 - loss: 0.6425 - acc: 0.731 - ETA: 3:25 - loss: 0.6410 - acc: 0.731 - ETA: 3:25 - loss: 0.6422 - acc: 0.731 - ETA: 3:24 - loss: 0.6431 - acc: 0.731 - ETA: 3:24 - loss: 0.6422 - acc: 0.731 - ETA: 3:24 - loss: 0.6433 - acc: 0.731 - ETA: 3:23 - loss: 0.6444 - acc: 0.730 - ETA: 3:23 - loss: 0.6443 - acc: 0.730 - ETA: 3:23 - loss: 0.6437 - acc: 0.730 - ETA: 3:22 - loss: 0.6435 - acc: 0.730 - ETA: 3:21 - loss: 0.6444 - acc: 0.730 - ETA: 3:21 - loss: 0.6438 - acc: 0.730 - ETA: 3:20 - loss: 0.6446 - acc: 0.730 - ETA: 3:20 - loss: 0.6442 - acc: 0.730 - ETA: 3:20 - loss: 0.6450 - acc: 0.729 - ETA: 3:19 - loss: 0.6454 - acc: 0.728 - ETA: 3:19 - loss: 0.6460 - acc: 0.728 - ETA: 3:18 - loss: 0.6452 - acc: 0.729 - ETA: 3:17 - loss: 0.6444 - acc: 0.729 - ETA: 3:17 - loss: 0.6447 - acc: 0.730 - ETA: 3:17 - loss: 0.6437 - acc: 0.730 - ETA: 3:16 - loss: 0.6432 - acc: 0.730 - ETA: 3:16 - loss: 0.6423 - acc: 0.731 - ETA: 3:15 - loss: 0.6419 - acc: 0.731 - ETA: 3:15 - loss: 0.6420 - acc: 0.730 - ETA: 3:14 - loss: 0.6422 - acc: 0.730 - ETA: 3:14 - loss: 0.6424 - acc: 0.730 - ETA: 3:13 - loss: 0.6437 - acc: 0.730 - ETA: 3:13 - loss: 0.6435 - acc: 0.730 - ETA: 3:12 - loss: 0.6431 - acc: 0.730 - ETA: 3:12 - loss: 0.6430 - acc: 0.730 - ETA: 3:11 - loss: 0.6428 - acc: 0.730 - ETA: 3:11 - loss: 0.6428 - acc: 0.729 - ETA: 3:10 - loss: 0.6436 - acc: 0.729 - ETA: 3:10 - loss: 0.6429 - acc: 0.729 - ETA: 3:09 - loss: 0.6431 - acc: 0.729 - ETA: 3:09 - loss: 0.6436 - acc: 0.729 - ETA: 3:08 - loss: 0.6443 - acc: 0.728 - ETA: 3:08 - loss: 0.6439 - acc: 0.729 - ETA: 3:08 - loss: 0.6444 - acc: 0.729 - ETA: 3:07 - loss: 0.6447 - acc: 0.728 - ETA: 3:07 - loss: 0.6457 - acc: 0.728 - ETA: 3:06 - loss: 0.6452 - acc: 0.728 - ETA: 3:06 - loss: 0.6456 - acc: 0.728 - ETA: 3:05 - loss: 0.6456 - acc: 0.728 - ETA: 3:05 - loss: 0.6452 - acc: 0.728 - ETA: 3:04 - loss: 0.6451 - acc: 0.728 - ETA: 3:04 - loss: 0.6452 - acc: 0.729 - ETA: 3:03 - loss: 0.6456 - acc: 0.728 - ETA: 3:03 - loss: 0.6459 - acc: 0.728 - ETA: 3:02 - loss: 0.6454 - acc: 0.728 - ETA: 3:02 - loss: 0.6457 - acc: 0.728 - ETA: 3:01 - loss: 0.6463 - acc: 0.728 - ETA: 3:01 - loss: 0.6461 - acc: 0.728 - ETA: 3:00 - loss: 0.6461 - acc: 0.728 - ETA: 3:00 - loss: 0.6467 - acc: 0.727 - ETA: 2:59 - loss: 0.6475 - acc: 0.727 - ETA: 2:59 - loss: 0.6477 - acc: 0.727 - ETA: 2:58 - loss: 0.6481 - acc: 0.726 - ETA: 2:58 - loss: 0.6482 - acc: 0.726 - ETA: 2:57 - loss: 0.6483 - acc: 0.726 - ETA: 2:57 - loss: 0.6485 - acc: 0.726 - ETA: 2:56 - loss: 0.6478 - acc: 0.726 - ETA: 2:56 - loss: 0.6476 - acc: 0.726 - ETA: 2:56 - loss: 0.6479 - acc: 0.726 - ETA: 2:55 - loss: 0.6477 - acc: 0.727 - ETA: 2:55 - loss: 0.6473 - acc: 0.727 - ETA: 2:54 - loss: 0.6474 - acc: 0.727 - ETA: 2:54 - loss: 0.6480 - acc: 0.727 - ETA: 2:53 - loss: 0.6481 - acc: 0.727 - ETA: 2:53 - loss: 0.6485 - acc: 0.726 - ETA: 2:53 - loss: 0.6486 - acc: 0.727 - ETA: 2:52 - loss: 0.6485 - acc: 0.726 - ETA: 2:52 - loss: 0.6490 - acc: 0.726 - ETA: 2:51 - loss: 0.6494 - acc: 0.726 - ETA: 2:51 - loss: 0.6494 - acc: 0.726 - ETA: 2:50 - loss: 0.6490 - acc: 0.726 - ETA: 2:50 - loss: 0.6498 - acc: 0.726 - ETA: 2:49 - loss: 0.6501 - acc: 0.726 - ETA: 2:49 - loss: 0.6501 - acc: 0.726 - ETA: 2:48 - loss: 0.6505 - acc: 0.726 - ETA: 2:48 - loss: 0.6503 - acc: 0.726 - ETA: 2:47 - loss: 0.6505 - acc: 0.726 - ETA: 2:47 - loss: 0.6507 - acc: 0.726 - ETA: 2:46 - loss: 0.6504 - acc: 0.726 - ETA: 2:46 - loss: 0.6507 - acc: 0.726 - ETA: 2:45 - loss: 0.6511 - acc: 0.726 - ETA: 2:45 - loss: 0.6515 - acc: 0.725 - ETA: 2:44 - loss: 0.6512 - acc: 0.726 - ETA: 2:44 - loss: 0.6515 - acc: 0.726 - ETA: 2:43 - loss: 0.6513 - acc: 0.726 - ETA: 2:43 - loss: 0.6513 - acc: 0.726 - ETA: 2:43 - loss: 0.6511 - acc: 0.726 - ETA: 2:42 - loss: 0.6514 - acc: 0.726 - ETA: 2:42 - loss: 0.6514 - acc: 0.726 - ETA: 2:41 - loss: 0.6516 - acc: 0.726 - ETA: 2:41 - loss: 0.6517 - acc: 0.726 - ETA: 2:40 - loss: 0.6519 - acc: 0.725 - ETA: 2:40 - loss: 0.6524 - acc: 0.725 - ETA: 2:39 - loss: 0.6527 - acc: 0.725 - ETA: 2:39 - loss: 0.6531 - acc: 0.725 - ETA: 2:38 - loss: 0.6529 - acc: 0.725 - ETA: 2:38 - loss: 0.6527 - acc: 0.725 - ETA: 2:37 - loss: 0.6527 - acc: 0.725 - ETA: 2:37 - loss: 0.6527 - acc: 0.725 - ETA: 2:36 - loss: 0.6529 - acc: 0.725 - ETA: 2:36 - loss: 0.6530 - acc: 0.725 - ETA: 2:35 - loss: 0.6537 - acc: 0.724 - ETA: 2:35 - loss: 0.6542 - acc: 0.724 - ETA: 2:34 - loss: 0.6542 - acc: 0.724 - ETA: 2:34 - loss: 0.6542 - acc: 0.724 - ETA: 2:33 - loss: 0.6537 - acc: 0.725 - ETA: 2:33 - loss: 0.6534 - acc: 0.725 - ETA: 2:32 - loss: 0.6538 - acc: 0.725 - ETA: 2:32 - loss: 0.6545 - acc: 0.724 - ETA: 2:31 - loss: 0.6546 - acc: 0.724 - ETA: 2:31 - loss: 0.6548 - acc: 0.724 - ETA: 2:30 - loss: 0.6547 - acc: 0.724 - ETA: 2:30 - loss: 0.6545 - acc: 0.724 - ETA: 2:30 - loss: 0.6547 - acc: 0.724 - ETA: 2:29 - loss: 0.6554 - acc: 0.724 - ETA: 2:29 - loss: 0.6555 - acc: 0.724 - ETA: 2:28 - loss: 0.6557 - acc: 0.724 - ETA: 2:28 - loss: 0.6563 - acc: 0.724 - ETA: 2:27 - loss: 0.6559 - acc: 0.724 - ETA: 2:27 - loss: 0.6562 - acc: 0.724 - ETA: 2:26 - loss: 0.6559 - acc: 0.724 - ETA: 2:26 - loss: 0.6563 - acc: 0.724 - ETA: 2:25 - loss: 0.6564 - acc: 0.724 - ETA: 2:25 - loss: 0.6560 - acc: 0.724 - ETA: 2:24 - loss: 0.6562 - acc: 0.724 - ETA: 2:24 - loss: 0.6563 - acc: 0.724 - ETA: 2:23 - loss: 0.6560 - acc: 0.724 - ETA: 2:23 - loss: 0.6564 - acc: 0.724 - ETA: 2:22 - loss: 0.6564 - acc: 0.724 - ETA: 2:22 - loss: 0.6572 - acc: 0.724 - ETA: 2:21 - loss: 0.6570 - acc: 0.724 - ETA: 2:21 - loss: 0.6571 - acc: 0.724 - ETA: 2:20 - loss: 0.6571 - acc: 0.724 - ETA: 2:20 - loss: 0.6567 - acc: 0.724 - ETA: 2:19 - loss: 0.6569 - acc: 0.724 - ETA: 2:19 - loss: 0.6569 - acc: 0.724 - ETA: 2:18 - loss: 0.6566 - acc: 0.724 - ETA: 2:18 - loss: 0.6564 - acc: 0.724 - ETA: 2:17 - loss: 0.6565 - acc: 0.724 - ETA: 2:17 - loss: 0.6566 - acc: 0.7244104960/124848 [========================>.....] - ETA: 2:16 - loss: 0.6565 - acc: 0.724 - ETA: 2:16 - loss: 0.6567 - acc: 0.724 - ETA: 2:16 - loss: 0.6573 - acc: 0.724 - ETA: 2:15 - loss: 0.6575 - acc: 0.724 - ETA: 2:15 - loss: 0.6574 - acc: 0.724 - ETA: 2:14 - loss: 0.6571 - acc: 0.724 - ETA: 2:14 - loss: 0.6567 - acc: 0.724 - ETA: 2:13 - loss: 0.6567 - acc: 0.724 - ETA: 2:13 - loss: 0.6563 - acc: 0.724 - ETA: 2:12 - loss: 0.6562 - acc: 0.724 - ETA: 2:12 - loss: 0.6564 - acc: 0.724 - ETA: 2:11 - loss: 0.6561 - acc: 0.724 - ETA: 2:11 - loss: 0.6557 - acc: 0.724 - ETA: 2:10 - loss: 0.6559 - acc: 0.724 - ETA: 2:10 - loss: 0.6559 - acc: 0.725 - ETA: 2:09 - loss: 0.6561 - acc: 0.725 - ETA: 2:09 - loss: 0.6563 - acc: 0.724 - ETA: 2:08 - loss: 0.6566 - acc: 0.724 - ETA: 2:08 - loss: 0.6570 - acc: 0.724 - ETA: 2:07 - loss: 0.6574 - acc: 0.724 - ETA: 2:07 - loss: 0.6571 - acc: 0.724 - ETA: 2:06 - loss: 0.6571 - acc: 0.724 - ETA: 2:06 - loss: 0.6573 - acc: 0.724 - ETA: 2:05 - loss: 0.6573 - acc: 0.724 - ETA: 2:05 - loss: 0.6577 - acc: 0.724 - ETA: 2:04 - loss: 0.6573 - acc: 0.724 - ETA: 2:04 - loss: 0.6579 - acc: 0.724 - ETA: 2:03 - loss: 0.6577 - acc: 0.724 - ETA: 2:03 - loss: 0.6576 - acc: 0.724 - ETA: 2:02 - loss: 0.6576 - acc: 0.724 - ETA: 2:02 - loss: 0.6576 - acc: 0.724 - ETA: 2:01 - loss: 0.6580 - acc: 0.724 - ETA: 2:01 - loss: 0.6581 - acc: 0.724 - ETA: 2:00 - loss: 0.6581 - acc: 0.724 - ETA: 2:00 - loss: 0.6581 - acc: 0.724 - ETA: 2:00 - loss: 0.6583 - acc: 0.724 - ETA: 1:59 - loss: 0.6581 - acc: 0.724 - ETA: 1:59 - loss: 0.6580 - acc: 0.724 - ETA: 1:58 - loss: 0.6580 - acc: 0.724 - ETA: 1:58 - loss: 0.6582 - acc: 0.724 - ETA: 1:57 - loss: 0.6581 - acc: 0.724 - ETA: 1:57 - loss: 0.6580 - acc: 0.724 - ETA: 1:56 - loss: 0.6578 - acc: 0.724 - ETA: 1:56 - loss: 0.6582 - acc: 0.724 - ETA: 1:55 - loss: 0.6582 - acc: 0.724 - ETA: 1:55 - loss: 0.6583 - acc: 0.724 - ETA: 1:54 - loss: 0.6586 - acc: 0.724 - ETA: 1:54 - loss: 0.6586 - acc: 0.724 - ETA: 1:53 - loss: 0.6589 - acc: 0.724 - ETA: 1:53 - loss: 0.6591 - acc: 0.724 - ETA: 1:52 - loss: 0.6594 - acc: 0.724 - ETA: 1:52 - loss: 0.6599 - acc: 0.723 - ETA: 1:51 - loss: 0.6600 - acc: 0.723 - ETA: 1:51 - loss: 0.6600 - acc: 0.723 - ETA: 1:50 - loss: 0.6597 - acc: 0.724 - ETA: 1:50 - loss: 0.6596 - acc: 0.724 - ETA: 1:49 - loss: 0.6596 - acc: 0.724 - ETA: 1:49 - loss: 0.6599 - acc: 0.723 - ETA: 1:48 - loss: 0.6599 - acc: 0.723 - ETA: 1:48 - loss: 0.6600 - acc: 0.723 - ETA: 1:47 - loss: 0.6600 - acc: 0.723 - ETA: 1:47 - loss: 0.6601 - acc: 0.723 - ETA: 1:46 - loss: 0.6600 - acc: 0.723 - ETA: 1:46 - loss: 0.6601 - acc: 0.723 - ETA: 1:45 - loss: 0.6605 - acc: 0.723 - ETA: 1:45 - loss: 0.6605 - acc: 0.723 - ETA: 1:45 - loss: 0.6609 - acc: 0.723 - ETA: 1:44 - loss: 0.6613 - acc: 0.723 - ETA: 1:44 - loss: 0.6614 - acc: 0.723 - ETA: 1:43 - loss: 0.6616 - acc: 0.723 - ETA: 1:43 - loss: 0.6616 - acc: 0.723 - ETA: 1:42 - loss: 0.6614 - acc: 0.723 - ETA: 1:42 - loss: 0.6613 - acc: 0.723 - ETA: 1:41 - loss: 0.6614 - acc: 0.723 - ETA: 1:41 - loss: 0.6615 - acc: 0.723 - ETA: 1:40 - loss: 0.6617 - acc: 0.723 - ETA: 1:40 - loss: 0.6615 - acc: 0.723 - ETA: 1:39 - loss: 0.6615 - acc: 0.723 - ETA: 1:39 - loss: 0.6614 - acc: 0.723 - ETA: 1:38 - loss: 0.6611 - acc: 0.723 - ETA: 1:38 - loss: 0.6613 - acc: 0.723 - ETA: 1:37 - loss: 0.6615 - acc: 0.723 - ETA: 1:37 - loss: 0.6615 - acc: 0.723 - ETA: 1:36 - loss: 0.6613 - acc: 0.723 - ETA: 1:36 - loss: 0.6613 - acc: 0.723 - ETA: 1:35 - loss: 0.6615 - acc: 0.723 - ETA: 1:35 - loss: 0.6616 - acc: 0.723 - ETA: 1:34 - loss: 0.6616 - acc: 0.723 - ETA: 1:34 - loss: 0.6615 - acc: 0.723 - ETA: 1:33 - loss: 0.6614 - acc: 0.723 - ETA: 1:33 - loss: 0.6618 - acc: 0.723 - ETA: 1:32 - loss: 0.6620 - acc: 0.723 - ETA: 1:32 - loss: 0.6616 - acc: 0.723 - ETA: 1:31 - loss: 0.6617 - acc: 0.723 - ETA: 1:31 - loss: 0.6618 - acc: 0.723 - ETA: 1:30 - loss: 0.6622 - acc: 0.723 - ETA: 1:30 - loss: 0.6624 - acc: 0.723 - ETA: 1:29 - loss: 0.6624 - acc: 0.723 - ETA: 1:29 - loss: 0.6625 - acc: 0.723 - ETA: 1:29 - loss: 0.6625 - acc: 0.723 - ETA: 1:28 - loss: 0.6629 - acc: 0.722 - ETA: 1:28 - loss: 0.6630 - acc: 0.722 - ETA: 1:27 - loss: 0.6632 - acc: 0.722 - ETA: 1:27 - loss: 0.6631 - acc: 0.722 - ETA: 1:26 - loss: 0.6630 - acc: 0.722 - ETA: 1:26 - loss: 0.6629 - acc: 0.722 - ETA: 1:25 - loss: 0.6631 - acc: 0.722 - ETA: 1:25 - loss: 0.6630 - acc: 0.722 - ETA: 1:24 - loss: 0.6629 - acc: 0.722 - ETA: 1:24 - loss: 0.6631 - acc: 0.722 - ETA: 1:23 - loss: 0.6633 - acc: 0.722 - ETA: 1:23 - loss: 0.6633 - acc: 0.722 - ETA: 1:22 - loss: 0.6633 - acc: 0.722 - ETA: 1:22 - loss: 0.6636 - acc: 0.722 - ETA: 1:21 - loss: 0.6636 - acc: 0.722 - ETA: 1:21 - loss: 0.6635 - acc: 0.722 - ETA: 1:20 - loss: 0.6632 - acc: 0.722 - ETA: 1:20 - loss: 0.6631 - acc: 0.722 - ETA: 1:19 - loss: 0.6631 - acc: 0.722 - ETA: 1:19 - loss: 0.6630 - acc: 0.722 - ETA: 1:18 - loss: 0.6631 - acc: 0.722 - ETA: 1:18 - loss: 0.6636 - acc: 0.722 - ETA: 1:17 - loss: 0.6636 - acc: 0.722 - ETA: 1:17 - loss: 0.6633 - acc: 0.722 - ETA: 1:16 - loss: 0.6634 - acc: 0.722 - ETA: 1:16 - loss: 0.6634 - acc: 0.722 - ETA: 1:15 - loss: 0.6637 - acc: 0.722 - ETA: 1:15 - loss: 0.6637 - acc: 0.722 - ETA: 1:15 - loss: 0.6637 - acc: 0.722 - ETA: 1:14 - loss: 0.6641 - acc: 0.722 - ETA: 1:14 - loss: 0.6639 - acc: 0.722 - ETA: 1:13 - loss: 0.6638 - acc: 0.722 - ETA: 1:13 - loss: 0.6640 - acc: 0.722 - ETA: 1:12 - loss: 0.6641 - acc: 0.722 - ETA: 1:12 - loss: 0.6642 - acc: 0.722 - ETA: 1:11 - loss: 0.6642 - acc: 0.722 - ETA: 1:11 - loss: 0.6643 - acc: 0.722 - ETA: 1:10 - loss: 0.6645 - acc: 0.721 - ETA: 1:10 - loss: 0.6645 - acc: 0.721 - ETA: 1:09 - loss: 0.6644 - acc: 0.721 - ETA: 1:09 - loss: 0.6643 - acc: 0.721 - ETA: 1:08 - loss: 0.6641 - acc: 0.722 - ETA: 1:08 - loss: 0.6644 - acc: 0.721 - ETA: 1:07 - loss: 0.6645 - acc: 0.721 - ETA: 1:07 - loss: 0.6644 - acc: 0.721 - ETA: 1:06 - loss: 0.6643 - acc: 0.721 - ETA: 1:06 - loss: 0.6644 - acc: 0.721 - ETA: 1:05 - loss: 0.6645 - acc: 0.721 - ETA: 1:05 - loss: 0.6645 - acc: 0.722 - ETA: 1:04 - loss: 0.6644 - acc: 0.722 - ETA: 1:04 - loss: 0.6646 - acc: 0.722 - ETA: 1:03 - loss: 0.6646 - acc: 0.722 - ETA: 1:03 - loss: 0.6646 - acc: 0.721 - ETA: 1:02 - loss: 0.6647 - acc: 0.721 - ETA: 1:02 - loss: 0.6646 - acc: 0.721 - ETA: 1:01 - loss: 0.6648 - acc: 0.721 - ETA: 1:01 - loss: 0.6650 - acc: 0.721 - ETA: 1:00 - loss: 0.6653 - acc: 0.721 - ETA: 1:00 - loss: 0.6654 - acc: 0.721 - ETA: 59s - loss: 0.6656 - acc: 0.721 - ETA: 59s - loss: 0.6656 - acc: 0.72 - ETA: 58s - loss: 0.6657 - acc: 0.72 - ETA: 58s - loss: 0.6659 - acc: 0.72 - ETA: 58s - loss: 0.6661 - acc: 0.72 - ETA: 57s - loss: 0.6661 - acc: 0.72 - ETA: 57s - loss: 0.6664 - acc: 0.72 - ETA: 56s - loss: 0.6662 - acc: 0.72 - ETA: 56s - loss: 0.6664 - acc: 0.72 - ETA: 55s - loss: 0.6662 - acc: 0.72 - ETA: 55s - loss: 0.6663 - acc: 0.72 - ETA: 54s - loss: 0.6661 - acc: 0.72 - ETA: 54s - loss: 0.6661 - acc: 0.72 - ETA: 53s - loss: 0.6662 - acc: 0.72 - ETA: 53s - loss: 0.6664 - acc: 0.72 - ETA: 52s - loss: 0.6665 - acc: 0.72 - ETA: 52s - loss: 0.6665 - acc: 0.72 - ETA: 51s - loss: 0.6667 - acc: 0.72 - ETA: 51s - loss: 0.6669 - acc: 0.72 - ETA: 50s - loss: 0.6668 - acc: 0.72 - ETA: 50s - loss: 0.6668 - acc: 0.72 - ETA: 49s - loss: 0.6669 - acc: 0.72 - ETA: 49s - loss: 0.6671 - acc: 0.72 - ETA: 48s - loss: 0.6673 - acc: 0.72 - ETA: 48s - loss: 0.6674 - acc: 0.72 - ETA: 47s - loss: 0.6674 - acc: 0.72 - ETA: 47s - loss: 0.6677 - acc: 0.72 - ETA: 46s - loss: 0.6681 - acc: 0.72 - ETA: 46s - loss: 0.6682 - acc: 0.72 - ETA: 45s - loss: 0.6684 - acc: 0.72 - ETA: 45s - loss: 0.6685 - acc: 0.72 - ETA: 44s - loss: 0.6683 - acc: 0.72 - ETA: 44s - loss: 0.6682 - acc: 0.72 - ETA: 43s - loss: 0.6685 - acc: 0.72 - ETA: 43s - loss: 0.6684 - acc: 0.72 - ETA: 42s - loss: 0.6684 - acc: 0.71 - ETA: 42s - loss: 0.6683 - acc: 0.72 - ETA: 42s - loss: 0.6684 - acc: 0.72 - ETA: 41s - loss: 0.6683 - acc: 0.72 - ETA: 41s - loss: 0.6683 - acc: 0.72 - ETA: 40s - loss: 0.6683 - acc: 0.71 - ETA: 40s - loss: 0.6682 - acc: 0.72 - ETA: 39s - loss: 0.6683 - acc: 0.72 - ETA: 39s - loss: 0.6684 - acc: 0.72 - ETA: 38s - loss: 0.6683 - acc: 0.72 - ETA: 38s - loss: 0.6683 - acc: 0.72 - ETA: 37s - loss: 0.6684 - acc: 0.7200124848/124848 [==============================] - ETA: 37s - loss: 0.6686 - acc: 0.71 - ETA: 36s - loss: 0.6687 - acc: 0.71 - ETA: 36s - loss: 0.6688 - acc: 0.71 - ETA: 35s - loss: 0.6689 - acc: 0.71 - ETA: 35s - loss: 0.6689 - acc: 0.71 - ETA: 34s - loss: 0.6692 - acc: 0.71 - ETA: 34s - loss: 0.6692 - acc: 0.71 - ETA: 33s - loss: 0.6692 - acc: 0.71 - ETA: 33s - loss: 0.6693 - acc: 0.71 - ETA: 32s - loss: 0.6693 - acc: 0.71 - ETA: 32s - loss: 0.6693 - acc: 0.71 - ETA: 31s - loss: 0.6693 - acc: 0.71 - ETA: 31s - loss: 0.6692 - acc: 0.71 - ETA: 30s - loss: 0.6693 - acc: 0.71 - ETA: 30s - loss: 0.6694 - acc: 0.71 - ETA: 29s - loss: 0.6694 - acc: 0.71 - ETA: 29s - loss: 0.6695 - acc: 0.71 - ETA: 28s - loss: 0.6694 - acc: 0.71 - ETA: 28s - loss: 0.6693 - acc: 0.71 - ETA: 27s - loss: 0.6692 - acc: 0.71 - ETA: 27s - loss: 0.6694 - acc: 0.71 - ETA: 26s - loss: 0.6693 - acc: 0.71 - ETA: 26s - loss: 0.6694 - acc: 0.71 - ETA: 26s - loss: 0.6695 - acc: 0.71 - ETA: 25s - loss: 0.6698 - acc: 0.71 - ETA: 25s - loss: 0.6697 - acc: 0.71 - ETA: 24s - loss: 0.6699 - acc: 0.71 - ETA: 24s - loss: 0.6698 - acc: 0.71 - ETA: 23s - loss: 0.6697 - acc: 0.71 - ETA: 23s - loss: 0.6702 - acc: 0.71 - ETA: 22s - loss: 0.6703 - acc: 0.71 - ETA: 22s - loss: 0.6703 - acc: 0.71 - ETA: 21s - loss: 0.6702 - acc: 0.71 - ETA: 21s - loss: 0.6702 - acc: 0.71 - ETA: 20s - loss: 0.6702 - acc: 0.71 - ETA: 20s - loss: 0.6702 - acc: 0.71 - ETA: 19s - loss: 0.6701 - acc: 0.71 - ETA: 19s - loss: 0.6700 - acc: 0.71 - ETA: 18s - loss: 0.6700 - acc: 0.71 - ETA: 18s - loss: 0.6701 - acc: 0.71 - ETA: 17s - loss: 0.6700 - acc: 0.71 - ETA: 17s - loss: 0.6699 - acc: 0.71 - ETA: 16s - loss: 0.6702 - acc: 0.71 - ETA: 16s - loss: 0.6701 - acc: 0.71 - ETA: 15s - loss: 0.6703 - acc: 0.71 - ETA: 15s - loss: 0.6703 - acc: 0.71 - ETA: 14s - loss: 0.6703 - acc: 0.71 - ETA: 14s - loss: 0.6703 - acc: 0.71 - ETA: 13s - loss: 0.6703 - acc: 0.71 - ETA: 13s - loss: 0.6705 - acc: 0.71 - ETA: 12s - loss: 0.6706 - acc: 0.71 - ETA: 12s - loss: 0.6709 - acc: 0.71 - ETA: 11s - loss: 0.6709 - acc: 0.71 - ETA: 11s - loss: 0.6709 - acc: 0.71 - ETA: 10s - loss: 0.6710 - acc: 0.71 - ETA: 10s - loss: 0.6710 - acc: 0.71 - ETA: 10s - loss: 0.6711 - acc: 0.71 - ETA: 9s - loss: 0.6713 - acc: 0.7192 - ETA: 9s - loss: 0.6711 - acc: 0.719 - ETA: 8s - loss: 0.6713 - acc: 0.719 - ETA: 8s - loss: 0.6713 - acc: 0.719 - ETA: 7s - loss: 0.6713 - acc: 0.719 - ETA: 7s - loss: 0.6715 - acc: 0.719 - ETA: 6s - loss: 0.6716 - acc: 0.719 - ETA: 6s - loss: 0.6716 - acc: 0.719 - ETA: 5s - loss: 0.6716 - acc: 0.719 - ETA: 5s - loss: 0.6718 - acc: 0.718 - ETA: 4s - loss: 0.6718 - acc: 0.718 - ETA: 4s - loss: 0.6718 - acc: 0.718 - ETA: 3s - loss: 0.6719 - acc: 0.718 - ETA: 3s - loss: 0.6720 - acc: 0.718 - ETA: 2s - loss: 0.6721 - acc: 0.718 - ETA: 2s - loss: 0.6720 - acc: 0.718 - ETA: 1s - loss: 0.6720 - acc: 0.718 - ETA: 1s - loss: 0.6719 - acc: 0.718 - ETA: 0s - loss: 0.6717 - acc: 0.718 - ETA: 0s - loss: 0.6719 - acc: 0.718 - 258s 2ms/step - loss: 0.6720 - acc: 0.7186 - val_loss: 0.8455 - val_acc: 0.6704\n"
     ]
    }
   ],
   "source": [
    "history=model.fit(X_train, y_train, validation_data=(X_val, y_val),epochs=6, batch_size=256, verbose=1, callbacks=callback)"
   ]
  },
  {
   "cell_type": "code",
   "execution_count": 49,
   "metadata": {},
   "outputs": [
    {
     "data": {
      "text/plain": [
       "array([[   0,    0,    0, ...,  619,  819,  319],\n",
       "       [   0,    0,    0, ...,  619,  819,  319],\n",
       "       [   0,    0,    0, ...,    0,    0,   15],\n",
       "       ...,\n",
       "       [   0,    0,    0, ...,    2,  131, 5334],\n",
       "       [   0,    0,    0, ...,    2,  131, 5334],\n",
       "       [   0,    0,    0, ...,    0,  384, 1870]])"
      ]
     },
     "execution_count": 49,
     "metadata": {},
     "output_type": "execute_result"
    }
   ],
   "source": [
    "X_test"
   ]
  },
  {
   "cell_type": "code",
   "execution_count": 50,
   "metadata": {},
   "outputs": [],
   "source": [
    "#make the predictions with trained model and submit the predictions.\n",
    "y_pred=model.predict_classes(X_test)"
   ]
  },
  {
   "cell_type": "code",
   "execution_count": 51,
   "metadata": {},
   "outputs": [
    {
     "data": {
      "text/plain": [
       "66292"
      ]
     },
     "execution_count": 51,
     "metadata": {},
     "output_type": "execute_result"
    }
   ],
   "source": [
    "len(y_pred)\n"
   ]
  },
  {
   "cell_type": "code",
   "execution_count": 54,
   "metadata": {},
   "outputs": [],
   "source": [
    "sub_file = pd.read_csv('sampleSubmission.csv',sep=',')\n",
    "sub_file.Sentiment=y_pred\n",
    "sub_file.to_csv('Submission1.csv',index=False)"
   ]
  },
  {
   "cell_type": "code",
   "execution_count": 53,
   "metadata": {},
   "outputs": [
    {
     "data": {
      "text/plain": [
       "(66292, 2)"
      ]
     },
     "execution_count": 53,
     "metadata": {},
     "output_type": "execute_result"
    }
   ],
   "source": [
    "sub_file.shape"
   ]
  },
  {
   "cell_type": "code",
   "execution_count": 26,
   "metadata": {},
   "outputs": [],
   "source": [
    "testy=pd.read_csv(\"test.tsv\",sep=\"\\t\")"
   ]
  },
  {
   "cell_type": "code",
   "execution_count": 27,
   "metadata": {},
   "outputs": [
    {
     "data": {
      "text/plain": [
       "(66292, 3)"
      ]
     },
     "execution_count": 27,
     "metadata": {},
     "output_type": "execute_result"
    }
   ],
   "source": [
    "testy.shape"
   ]
  },
  {
   "cell_type": "code",
   "execution_count": 28,
   "metadata": {},
   "outputs": [
    {
     "data": {
      "text/plain": [
       "(156060, 4)"
      ]
     },
     "execution_count": 28,
     "metadata": {},
     "output_type": "execute_result"
    }
   ],
   "source": [
    "train1.shape"
   ]
  },
  {
   "cell_type": "code",
   "execution_count": null,
   "metadata": {},
   "outputs": [],
   "source": []
  },
  {
   "cell_type": "code",
   "execution_count": 43,
   "metadata": {},
   "outputs": [
    {
     "name": "stderr",
     "output_type": "stream",
     "text": [
      "C:\\Users\\sreekar chidurala\\Anaconda3\\envs\\sreekarr\\lib\\site-packages\\pandas\\core\\ops.py:1649: FutureWarning: elementwise comparison failed; returning scalar instead, but in the future will perform elementwise comparison\n",
      "  result = method(y)\n"
     ]
    },
    {
     "ename": "ValueError",
     "evalue": "The truth value of a DataFrame is ambiguous. Use a.empty, a.bool(), a.item(), a.any() or a.all().",
     "output_type": "error",
     "traceback": [
      "\u001b[1;31m---------------------------------------------------------------------------\u001b[0m",
      "\u001b[1;31mValueError\u001b[0m                                Traceback (most recent call last)",
      "\u001b[1;32m<ipython-input-43-aaabccd1c507>\u001b[0m in \u001b[0;36m<module>\u001b[1;34m\u001b[0m\n\u001b[0;32m      1\u001b[0m \u001b[0mtrain\u001b[0m\u001b[1;33m,\u001b[0m\u001b[0mtest\u001b[0m\u001b[1;33m=\u001b[0m\u001b[0mtrain_test_split\u001b[0m\u001b[1;33m(\u001b[0m\u001b[0mdocs_clean\u001b[0m\u001b[1;33m,\u001b[0m\u001b[0mtest_size\u001b[0m\u001b[1;33m=\u001b[0m\u001b[1;36m.3\u001b[0m\u001b[1;33m,\u001b[0m\u001b[0mrandom_state\u001b[0m\u001b[1;33m=\u001b[0m\u001b[1;36m100\u001b[0m\u001b[1;33m)\u001b[0m\u001b[1;33m\u001b[0m\u001b[1;33m\u001b[0m\u001b[0m\n\u001b[1;32m----> 2\u001b[1;33m \u001b[0mtrain_y\u001b[0m\u001b[1;33m=\u001b[0m\u001b[0mtrain1\u001b[0m\u001b[1;33m.\u001b[0m\u001b[0mloc\u001b[0m\u001b[1;33m[\u001b[0m\u001b[0mtrain\u001b[0m\u001b[1;33m.\u001b[0m\u001b[0mindex\u001b[0m\u001b[1;33m]\u001b[0m\u001b[1;33m[\u001b[0m\u001b[1;34m'Sentiment'\u001b[0m\u001b[1;33m]\u001b[0m\u001b[1;33m\u001b[0m\u001b[1;33m\u001b[0m\u001b[0m\n\u001b[0m\u001b[0;32m      3\u001b[0m \u001b[0mtest_y\u001b[0m\u001b[1;33m=\u001b[0m\u001b[0mtrain1\u001b[0m\u001b[1;33m.\u001b[0m\u001b[0mloc\u001b[0m\u001b[1;33m[\u001b[0m\u001b[0mtest\u001b[0m\u001b[1;33m.\u001b[0m\u001b[0mindex\u001b[0m\u001b[1;33m]\u001b[0m\u001b[1;33m[\u001b[0m\u001b[1;34m'Sentiment'\u001b[0m\u001b[1;33m]\u001b[0m\u001b[1;33m\u001b[0m\u001b[1;33m\u001b[0m\u001b[0m\n",
      "\u001b[1;32m~\\Anaconda3\\envs\\sreekarr\\lib\\site-packages\\pandas\\core\\indexing.py\u001b[0m in \u001b[0;36m__getitem__\u001b[1;34m(self, key)\u001b[0m\n\u001b[0;32m   1497\u001b[0m             \u001b[0maxis\u001b[0m \u001b[1;33m=\u001b[0m \u001b[0mself\u001b[0m\u001b[1;33m.\u001b[0m\u001b[0maxis\u001b[0m \u001b[1;32mor\u001b[0m \u001b[1;36m0\u001b[0m\u001b[1;33m\u001b[0m\u001b[1;33m\u001b[0m\u001b[0m\n\u001b[0;32m   1498\u001b[0m \u001b[1;33m\u001b[0m\u001b[0m\n\u001b[1;32m-> 1499\u001b[1;33m             \u001b[0mmaybe_callable\u001b[0m \u001b[1;33m=\u001b[0m \u001b[0mcom\u001b[0m\u001b[1;33m.\u001b[0m\u001b[0mapply_if_callable\u001b[0m\u001b[1;33m(\u001b[0m\u001b[0mkey\u001b[0m\u001b[1;33m,\u001b[0m \u001b[0mself\u001b[0m\u001b[1;33m.\u001b[0m\u001b[0mobj\u001b[0m\u001b[1;33m)\u001b[0m\u001b[1;33m\u001b[0m\u001b[1;33m\u001b[0m\u001b[0m\n\u001b[0m\u001b[0;32m   1500\u001b[0m             \u001b[1;32mreturn\u001b[0m \u001b[0mself\u001b[0m\u001b[1;33m.\u001b[0m\u001b[0m_getitem_axis\u001b[0m\u001b[1;33m(\u001b[0m\u001b[0mmaybe_callable\u001b[0m\u001b[1;33m,\u001b[0m \u001b[0maxis\u001b[0m\u001b[1;33m=\u001b[0m\u001b[0maxis\u001b[0m\u001b[1;33m)\u001b[0m\u001b[1;33m\u001b[0m\u001b[1;33m\u001b[0m\u001b[0m\n\u001b[0;32m   1501\u001b[0m \u001b[1;33m\u001b[0m\u001b[0m\n",
      "\u001b[1;32m~\\Anaconda3\\envs\\sreekarr\\lib\\site-packages\\pandas\\core\\common.py\u001b[0m in \u001b[0;36mapply_if_callable\u001b[1;34m(maybe_callable, obj, **kwargs)\u001b[0m\n\u001b[0;32m    327\u001b[0m \u001b[1;33m\u001b[0m\u001b[0m\n\u001b[0;32m    328\u001b[0m     \u001b[1;32mif\u001b[0m \u001b[0mcallable\u001b[0m\u001b[1;33m(\u001b[0m\u001b[0mmaybe_callable\u001b[0m\u001b[1;33m)\u001b[0m\u001b[1;33m:\u001b[0m\u001b[1;33m\u001b[0m\u001b[1;33m\u001b[0m\u001b[0m\n\u001b[1;32m--> 329\u001b[1;33m         \u001b[1;32mreturn\u001b[0m \u001b[0mmaybe_callable\u001b[0m\u001b[1;33m(\u001b[0m\u001b[0mobj\u001b[0m\u001b[1;33m,\u001b[0m \u001b[1;33m**\u001b[0m\u001b[0mkwargs\u001b[0m\u001b[1;33m)\u001b[0m\u001b[1;33m\u001b[0m\u001b[1;33m\u001b[0m\u001b[0m\n\u001b[0m\u001b[0;32m    330\u001b[0m \u001b[1;33m\u001b[0m\u001b[0m\n\u001b[0;32m    331\u001b[0m     \u001b[1;32mreturn\u001b[0m \u001b[0mmaybe_callable\u001b[0m\u001b[1;33m\u001b[0m\u001b[1;33m\u001b[0m\u001b[0m\n",
      "\u001b[1;32m~\\Anaconda3\\envs\\sreekarr\\lib\\site-packages\\pandas\\core\\generic.py\u001b[0m in \u001b[0;36m__nonzero__\u001b[1;34m(self)\u001b[0m\n\u001b[0;32m   1476\u001b[0m         raise ValueError(\"The truth value of a {0} is ambiguous. \"\n\u001b[0;32m   1477\u001b[0m                          \u001b[1;34m\"Use a.empty, a.bool(), a.item(), a.any() or a.all().\"\u001b[0m\u001b[1;33m\u001b[0m\u001b[1;33m\u001b[0m\u001b[0m\n\u001b[1;32m-> 1478\u001b[1;33m                          .format(self.__class__.__name__))\n\u001b[0m\u001b[0;32m   1479\u001b[0m \u001b[1;33m\u001b[0m\u001b[0m\n\u001b[0;32m   1480\u001b[0m     \u001b[0m__bool__\u001b[0m \u001b[1;33m=\u001b[0m \u001b[0m__nonzero__\u001b[0m\u001b[1;33m\u001b[0m\u001b[1;33m\u001b[0m\u001b[0m\n",
      "\u001b[1;31mValueError\u001b[0m: The truth value of a DataFrame is ambiguous. Use a.empty, a.bool(), a.item(), a.any() or a.all()."
     ]
    }
   ],
   "source": [
    "train,test=train_test_split(docs_clean,test_size=.3,random_state=100)\n",
    "train_y=train1.loc[train.index]['Sentiment']\n",
    "test_y=train1.loc[test.index]['Sentiment']"
   ]
  },
  {
   "cell_type": "code",
   "execution_count": 11,
   "metadata": {},
   "outputs": [],
   "source": [
    "cv=CountVectorizer()\n",
    "cv.fit(train)\n",
    "train_x=cv.transform(train)\n",
    "test_x=cv.transform(test)"
   ]
  },
  {
   "cell_type": "code",
   "execution_count": 19,
   "metadata": {},
   "outputs": [],
   "source": [
    "from sklearn.tree import DecisionTreeClassifier\n",
    "from sklearn.ensemble import RandomForestClassifier"
   ]
  },
  {
   "cell_type": "code",
   "execution_count": 13,
   "metadata": {},
   "outputs": [
    {
     "data": {
      "text/plain": [
       "RandomForestClassifier(bootstrap=True, class_weight=None, criterion='gini',\n",
       "            max_depth=None, max_features='auto', max_leaf_nodes=None,\n",
       "            min_impurity_decrease=0.0, min_impurity_split=None,\n",
       "            min_samples_leaf=1, min_samples_split=2,\n",
       "            min_weight_fraction_leaf=0.0, n_estimators=3, n_jobs=None,\n",
       "            oob_score=False, random_state=100, verbose=0, warm_start=False)"
      ]
     },
     "execution_count": 13,
     "metadata": {},
     "output_type": "execute_result"
    }
   ],
   "source": [
    "adaboost_model=RandomForestClassifier(n_estimators=3,random_state=100)\n",
    "adaboost_model.fit(train_x,train_y)"
   ]
  },
  {
   "cell_type": "code",
   "execution_count": 14,
   "metadata": {},
   "outputs": [],
   "source": [
    "pred_class=adaboost_model.predict(test_x)"
   ]
  },
  {
   "cell_type": "code",
   "execution_count": 15,
   "metadata": {},
   "outputs": [],
   "source": [
    "from sklearn.metrics import accuracy_score,f1_score,roc_curve,auc"
   ]
  },
  {
   "cell_type": "code",
   "execution_count": 16,
   "metadata": {},
   "outputs": [
    {
     "name": "stdout",
     "output_type": "stream",
     "text": [
      "0.6197189115297536\n"
     ]
    }
   ],
   "source": [
    "print(accuracy_score(test_y,pred_class))"
   ]
  },
  {
   "cell_type": "code",
   "execution_count": null,
   "metadata": {},
   "outputs": [],
   "source": []
  },
  {
   "cell_type": "code",
   "execution_count": null,
   "metadata": {},
   "outputs": [],
   "source": []
  }
 ],
 "metadata": {
  "kernelspec": {
   "display_name": "Python 3",
   "language": "python",
   "name": "python3"
  },
  "language_info": {
   "codemirror_mode": {
    "name": "ipython",
    "version": 3
   },
   "file_extension": ".py",
   "mimetype": "text/x-python",
   "name": "python",
   "nbconvert_exporter": "python",
   "pygments_lexer": "ipython3",
   "version": "3.7.3"
  }
 },
 "nbformat": 4,
 "nbformat_minor": 2
}
